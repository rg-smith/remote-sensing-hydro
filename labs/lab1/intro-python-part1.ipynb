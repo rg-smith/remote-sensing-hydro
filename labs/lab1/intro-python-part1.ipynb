{
  "nbformat": 4,
  "nbformat_minor": 0,
  "metadata": {
    "colab": {
      "name": "RS-hydro-lab1-part1.ipynb",
      "provenance": [],
      "collapsed_sections": [],
      "include_colab_link": true
    },
    "kernelspec": {
      "name": "python3",
      "display_name": "Python 3"
    }
  },
  "cells": [
    {
      "cell_type": "markdown",
      "metadata": {
        "id": "view-in-github",
        "colab_type": "text"
      },
      "source": [
        "<a href=\"https://colab.research.google.com/github/rg-smith/remote-sensing-hydro/blob/main/labs/lab1/intro-python-part1.ipynb\" target=\"_parent\"><img src=\"https://colab.research.google.com/assets/colab-badge.svg\" alt=\"Open In Colab\"/></a>"
      ]
    },
    {
      "cell_type": "markdown",
      "metadata": {
        "id": "ABEsXSTDeE-c"
      },
      "source": [
        "This is an introduction to python. \n",
        "We will go over some of the basics, including defining variables, data types, loading packages, plotting data, defining functions, and running loops. Click run to the left of each code block to see what it does. Try modifying the code and re-running to get a feel for how it works."
      ]
    },
    {
      "cell_type": "markdown",
      "metadata": {
        "id": "NTxGL08ZiHjO"
      },
      "source": [
        "As you go through these exercises, you will notice some bolded text that indicates an assignment. After you complete each assignment, take a screenshot and paste it into a separate word document."
      ]
    },
    {
      "cell_type": "markdown",
      "metadata": {
        "id": "oZjvaUUpeepq"
      },
      "source": [
        "First we will run the classic Hello World code. This simply prints the text 'hello world!' To do this, we use a simple function, called print(). A function is a command that can be called, with inputs, to produce some specific result. In python, to run a function you type the command, followed by (). Within the parentheses, you provide the arguments, or inputs, for the function. Each function requires different inputs. The print() function only requires one argument: the string of text, in quotation marks, to be printed."
      ]
    },
    {
      "cell_type": "code",
      "metadata": {
        "id": "wnU9DV_gdwcN"
      },
      "source": [
        "print('hello world!')"
      ],
      "execution_count": null,
      "outputs": []
    },
    {
      "cell_type": "markdown",
      "metadata": {
        "id": "sQJN2q3zLVKa"
      },
      "source": [
        ""
      ]
    },
    {
      "cell_type": "markdown",
      "metadata": {
        "id": "Isb_oDcSfE89"
      },
      "source": [
        "Now we will define a variable, x. Running print(x) after defining it displays the value of the variable."
      ]
    },
    {
      "cell_type": "code",
      "metadata": {
        "id": "PFMqZbQjd5Fg"
      },
      "source": [
        "x=10\n",
        "print(x)"
      ],
      "execution_count": null,
      "outputs": []
    },
    {
      "cell_type": "markdown",
      "metadata": {
        "id": "pdYOFzklfgzc"
      },
      "source": [
        "We can create a new variable, y, as x multiplied by 2. The * symbol multiplies, + and - add and subtract, and ** raises to a power. "
      ]
    },
    {
      "cell_type": "markdown",
      "metadata": {
        "id": "7fekzt3YhlKG"
      },
      "source": [
        "**After running this, modify the values below to create your own formula, and run it again. Take a screenshot of the formula, and its output, and include as your answer to #1.**"
      ]
    },
    {
      "cell_type": "code",
      "metadata": {
        "id": "EGcvPP7UeAli"
      },
      "source": [
        "y=x*2\n",
        "print(y)"
      ],
      "execution_count": null,
      "outputs": []
    },
    {
      "cell_type": "markdown",
      "metadata": {
        "id": "H3m87UmHgSwO"
      },
      "source": [
        "Python has several different types of variables. The variables we have created so far are integers. We can see the type of each variable by using the type() function."
      ]
    },
    {
      "cell_type": "code",
      "metadata": {
        "id": "jfMg0_6Mf2w1"
      },
      "source": [
        "print(type(x))"
      ],
      "execution_count": null,
      "outputs": []
    },
    {
      "cell_type": "markdown",
      "metadata": {
        "id": "6oY_qSzIBJFC"
      },
      "source": [
        "We can also create floats (numbers with decimal values), and strings. First, we'll create a variable that is a string."
      ]
    },
    {
      "cell_type": "code",
      "metadata": {
        "id": "5pcN00Nugirx"
      },
      "source": [
        "a='this is a string'\n",
        "print(a)\n",
        "print(type(a))"
      ],
      "execution_count": null,
      "outputs": []
    },
    {
      "cell_type": "markdown",
      "metadata": {
        "id": "e_-37NHUqllG"
      },
      "source": [
        "Strings can be combined with the + symbol"
      ]
    },
    {
      "cell_type": "code",
      "metadata": {
        "id": "cLZg1TRdqpUh"
      },
      "source": [
        "b=a+a\n",
        "print(b)"
      ],
      "execution_count": null,
      "outputs": []
    },
    {
      "cell_type": "markdown",
      "metadata": {
        "id": "phjdvE1Jqvkc"
      },
      "source": [
        "Remember to add spaces though..."
      ]
    },
    {
      "cell_type": "markdown",
      "metadata": {
        "id": "6uk8hRgrBVl4"
      },
      "source": [
        "Numbers can be converted to strings using the str() function:"
      ]
    },
    {
      "cell_type": "code",
      "metadata": {
        "id": "1VnernuuqzNQ"
      },
      "source": [
        "c=str(5)\n",
        "d=c+' is a number'\n",
        "print(d)"
      ],
      "execution_count": null,
      "outputs": []
    },
    {
      "cell_type": "markdown",
      "metadata": {
        "id": "HTnxk0IAgy_R"
      },
      "source": [
        "Now, we will create a float. A float can be created by giving the variable a decimal value, or by simply adding a period after the value."
      ]
    },
    {
      "cell_type": "code",
      "metadata": {
        "id": "50kmPyCCguWQ"
      },
      "source": [
        "e=10.\n",
        "print(e)\n",
        "print(type(e))"
      ],
      "execution_count": null,
      "outputs": []
    },
    {
      "cell_type": "markdown",
      "metadata": {
        "id": "CWL638_9g_uH"
      },
      "source": [
        "Now we will learn about loading modules in python. Python has hundreds of modules that can contain functions for specific applications. To run a function within a python module, you must first import the module. When you import the module, you can give it a shortened name, so the functions are easier to type. We will first load one of the most popular python modules, numpy. We'll abreviate it as np."
      ]
    },
    {
      "cell_type": "code",
      "metadata": {
        "id": "0n8oIqSNlYIH"
      },
      "source": [
        "import numpy as np"
      ],
      "execution_count": 1,
      "outputs": []
    },
    {
      "cell_type": "markdown",
      "metadata": {
        "id": "jgZdzSkhldFF"
      },
      "source": [
        "Now, we can run numpy functions by simply typing np. followed by the function name. We'll start with the function np.linspace. This function creates an array (like a table with many rows and one column) of values. It requires three arguments: the initial value of the array, the last value of the array, and the total number of values."
      ]
    },
    {
      "cell_type": "code",
      "metadata": {
        "id": "1NIK0qOvlaNz"
      },
      "source": [
        "array=np.linspace(0,1,10)\n",
        "print(array)"
      ],
      "execution_count": null,
      "outputs": []
    },
    {
      "cell_type": "markdown",
      "metadata": {
        "id": "-MCRJt-0l5bu"
      },
      "source": [
        "As you can see, we've created an array with 10 values that range from 0 to 1."
      ]
    },
    {
      "cell_type": "markdown",
      "metadata": {
        "id": "5fuIinGicTlt"
      },
      "source": [
        "Now we will learn about indexing arrays. Indexing means selecting part of an array. In python, we index with the brackets: []. Indexing starts from 0 in python, so using [0] would select the first value of an array, [1] would select the second, and so on.\n",
        "\n",
        "We can index, or select, a single element from an array like this:"
      ]
    },
    {
      "cell_type": "code",
      "metadata": {
        "id": "h7yYuuzechhj"
      },
      "source": [
        "single_element=array[0]\n",
        "print(single_element)"
      ],
      "execution_count": null,
      "outputs": []
    },
    {
      "cell_type": "markdown",
      "metadata": {
        "id": "9gPHHqVmcw1S"
      },
      "source": [
        "Or we can select multiple values in an array. To do that, we use a colon to separate the first value we want from the last value we want. The syntax looks like this: [first value:last value]. Here's an example:"
      ]
    },
    {
      "cell_type": "code",
      "metadata": {
        "id": "eP4SpMFFc8NN"
      },
      "source": [
        "multiple_elements=array[0:3]\n",
        "print(multiple_elements)"
      ],
      "execution_count": null,
      "outputs": []
    },
    {
      "cell_type": "markdown",
      "metadata": {
        "id": "uXixQRkXmAfi"
      },
      "source": [
        "**For assignment #2, create a new variable, t, representing time. This array should have units of seconds and should range from 0 to the number of seconds in a day, with hourly intervals. You'll have to replace the ? symbols with values to do this**"
      ]
    },
    {
      "cell_type": "code",
      "metadata": {
        "id": "5x3pfuVAmaBn"
      },
      "source": [
        "t=np.linspace(?,?,?)"
      ],
      "execution_count": 2,
      "outputs": []
    },
    {
      "cell_type": "markdown",
      "metadata": {
        "id": "ngTfzP9Y04rm"
      },
      "source": [
        "Now you will make a simple model of temperature as a function of the time of day using the variable you created."
      ]
    },
    {
      "cell_type": "code",
      "metadata": {
        "id": "Ne90ke9-0_40"
      },
      "source": [
        "T=10+5*(1-np.cos(t*2*np.pi/(3600*24)))"
      ],
      "execution_count": 11,
      "outputs": []
    },
    {
      "cell_type": "markdown",
      "metadata": {
        "id": "B7egy3ajnmmf"
      },
      "source": [
        "Now we will learn about plotting data in python. The most popular module that is used for plotting is matplotlib.pyplot. We will import it as plt so it's easier to type."
      ]
    },
    {
      "cell_type": "code",
      "metadata": {
        "id": "zqkL2sMsn0mQ"
      },
      "source": [
        "import matplotlib.pyplot as plt"
      ],
      "execution_count": 4,
      "outputs": []
    },
    {
      "cell_type": "markdown",
      "metadata": {
        "id": "aAjDdnoYn2yO"
      },
      "source": [
        "Now, we can create a nice plot showing temperature vs. time. "
      ]
    },
    {
      "cell_type": "code",
      "metadata": {
        "id": "ecZlnNybn9Dg"
      },
      "source": [
        "plt.figure()\n",
        "plt.plot(t,T)\n",
        "plt.ylabel('Temperature, degrees C')\n",
        "plt.xlabel('Time, seconds')"
      ],
      "execution_count": null,
      "outputs": []
    },
    {
      "cell_type": "markdown",
      "metadata": {
        "id": "FjtowGRyoM_D"
      },
      "source": [
        "Now, we will learn about loops in python. A loop is called by simply typing for. You also need to describe how long the loop will last. I usually do this using the range() function, which creates a simple range of values. Before running a loop, let's look at what the range function does."
      ]
    },
    {
      "cell_type": "code",
      "metadata": {
        "id": "VX2E654eowhp"
      },
      "source": [
        "example=range(10)\n",
        "print(example)"
      ],
      "execution_count": null,
      "outputs": []
    },
    {
      "cell_type": "markdown",
      "metadata": {
        "id": "SZOXtEfWozUX"
      },
      "source": [
        "Now, let's create a for loop with that range."
      ]
    },
    {
      "cell_type": "code",
      "metadata": {
        "id": "lHF17Vkno2gh"
      },
      "source": [
        "for val in range(10):\n",
        "  print(val)"
      ],
      "execution_count": null,
      "outputs": []
    },
    {
      "cell_type": "markdown",
      "metadata": {
        "id": "vnB7xSZEo-4z"
      },
      "source": [
        "That for loop was really simple. Let's do something just a tad more complex."
      ]
    },
    {
      "cell_type": "code",
      "metadata": {
        "id": "KqDhmkDjpDf2"
      },
      "source": [
        "for val in range(10):\n",
        "  newval=val**2 #raise the value to the power of two\n",
        "  print(newval)"
      ],
      "execution_count": null,
      "outputs": []
    },
    {
      "cell_type": "markdown",
      "metadata": {
        "id": "fl9bdVhBpLkC"
      },
      "source": [
        "Notice how putting a '#' in the code causes python to ignore all the text that follows it. This is a nice way to add comments to code and describe what you are doing. For loops can be really useful for repeating tasks, such as loading in multiple files and performing operations on them. We won't do that in this initial exercise, but will do it later on in the class. Let's do just one more for loop. This one will be a timer. For each iteration of the for loop, we will wait one second."
      ]
    },
    {
      "cell_type": "code",
      "metadata": {
        "id": "HeykKWubpy7t"
      },
      "source": [
        "import time # first we import the time module that we'll use in our loop\n",
        "for val in range(10):\n",
        "  time.sleep(1) # this function simply causes python to wait for one second \n",
        "  print(str(val)+' seconds have elapsed')"
      ],
      "execution_count": null,
      "outputs": []
    },
    {
      "cell_type": "markdown",
      "metadata": {
        "id": "o1H-oWprqUgt"
      },
      "source": [
        "Notice that in the above code, we combined a number (val) with a string and printed it. We converted the number, val, to a string with the str() function, then added the strings together. "
      ]
    },
    {
      "cell_type": "markdown",
      "metadata": {
        "id": "tHseI6pMqG1Q"
      },
      "source": [
        "For our final exercise we will learn about creating your own function. This is a very powerful tool in python. You can use it to reproduce tasks. You create a function with 'def'. We'll start with a very simple function"
      ]
    },
    {
      "cell_type": "code",
      "metadata": {
        "id": "fYDFCcxtrWPX"
      },
      "source": [
        "def my_function():\n",
        "  print('hello world!')\n",
        "my_function()"
      ],
      "execution_count": null,
      "outputs": []
    },
    {
      "cell_type": "markdown",
      "metadata": {
        "id": "UkkBhTAWrjQa"
      },
      "source": [
        "You can add arguments to your functions as well. Here's a simple example:"
      ]
    },
    {
      "cell_type": "code",
      "metadata": {
        "id": "kTrTf1YmrnbB"
      },
      "source": [
        "def my_function(argument):\n",
        "  print('I like to eat '+argument)\n",
        "my_function('cheese')"
      ],
      "execution_count": null,
      "outputs": []
    },
    {
      "cell_type": "markdown",
      "metadata": {
        "id": "27BF1c0frx8r"
      },
      "source": [
        "**For assignment #3, change the argument to the function above and re-run it.**"
      ]
    },
    {
      "cell_type": "markdown",
      "metadata": {
        "id": "uSvMXYLHtRU0"
      },
      "source": [
        "Now, we will create a function that has an output. This is done by using return(output value) at the end of the function"
      ]
    },
    {
      "cell_type": "code",
      "metadata": {
        "id": "ADfvIuWbtYXB"
      },
      "source": [
        "def multiply(a,b):\n",
        "  c=a*b\n",
        "  return(c)\n",
        "test=multiply(5,4)\n",
        "print(test)"
      ],
      "execution_count": null,
      "outputs": []
    },
    {
      "cell_type": "markdown",
      "metadata": {
        "id": "vNMM-KzLtrmj"
      },
      "source": [
        "Let's make a more complicated function. We'll find the length of the hypotenuse of a triangle. We'll use np.sqrt() to take the square root, and ** to take the square."
      ]
    },
    {
      "cell_type": "code",
      "metadata": {
        "id": "yLrsrvituHZ_"
      },
      "source": [
        "def hypotenuse(a,b):\n",
        "  length=np.sqrt(a**2+b**2)\n",
        "  return(length)\n",
        "test=hypotenuse(5,5)\n",
        "print(test)"
      ],
      "execution_count": null,
      "outputs": []
    },
    {
      "cell_type": "markdown",
      "metadata": {
        "id": "XpyqvpJ1uS6u"
      },
      "source": [
        "**For assignment #4: Now that you've seen some examples of creating functions, make a function that is more complicated. You can decide what it should be. Test it out and take a screenshot. I'll get you started below.**"
      ]
    },
    {
      "cell_type": "code",
      "metadata": {
        "id": "XY4n3Cp1uhJg"
      },
      "source": [
        "def my_function(?):\n",
        "  ?"
      ],
      "execution_count": null,
      "outputs": []
    }
  ]
}