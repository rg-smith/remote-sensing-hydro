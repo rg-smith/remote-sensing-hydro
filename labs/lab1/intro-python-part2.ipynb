{
  "nbformat": 4,
  "nbformat_minor": 0,
  "metadata": {
    "colab": {
      "name": "rs-hydro-lab1-part2.ipynb",
      "provenance": [],
      "collapsed_sections": [],
      "authorship_tag": "ABX9TyM5+YCp1FN5OTJJKXOmeAip",
      "include_colab_link": true
    },
    "kernelspec": {
      "name": "python3",
      "display_name": "Python 3"
    }
  },
  "cells": [
    {
      "cell_type": "markdown",
      "metadata": {
        "id": "view-in-github",
        "colab_type": "text"
      },
      "source": [
        "<a href=\"https://colab.research.google.com/github/rg-smith/remote-sensing-hydro/blob/main/labs/lab1/intro-python-part2.ipynb\" target=\"_parent\"><img src=\"https://colab.research.google.com/assets/colab-badge.svg\" alt=\"Open In Colab\"/></a>"
      ]
    },
    {
      "cell_type": "markdown",
      "metadata": {
        "id": "yYhj94SqpF1b"
      },
      "source": [
        "For this part of the lab, we will learn the basics of loading and plotting rasters. A raster is a matrix of values that can be represented by an image. An example of a raster is a photograph. Most remote sensing data are viewed as rasters."
      ]
    },
    {
      "cell_type": "markdown",
      "metadata": {
        "id": "rwHXSg96pWVA"
      },
      "source": [
        "First, we will clone the github repository, which will link all the files needed for this assignment to your Google Colab session."
      ]
    },
    {
      "cell_type": "code",
      "metadata": {
        "id": "Cjeo2YiOpC4W"
      },
      "source": [
        "!git clone https://github.com/rg-smith/remote-sensing-hydro.git\n",
        "!pip install rasterio"
      ],
      "execution_count": null,
      "outputs": []
    },
    {
      "cell_type": "markdown",
      "metadata": {
        "id": "6JcmLKnTph5O"
      },
      "source": [
        "Now, we will import some modules that we'll be using. First, we'll import numpy and matplotlib. We used these in the last lab. As a refresher, numpy is used for numerical analyses, and matplotlib is used for plotting. We only need to import these once. "
      ]
    },
    {
      "cell_type": "code",
      "metadata": {
        "id": "yhGUQu0kpsBX"
      },
      "source": [
        "import numpy as np\n",
        "import matplotlib.pyplot as plt"
      ],
      "execution_count": null,
      "outputs": []
    },
    {
      "cell_type": "markdown",
      "metadata": {
        "id": "XSUr6Q1cp1y-"
      },
      "source": [
        "Let's just do a quick refresher on using numpy and matplotlib. We'll make a sine function using numpy, and plot it using matplotlib. Follow along with the comments (text follwing the '#') to see what each line of code does."
      ]
    },
    {
      "cell_type": "code",
      "metadata": {
        "id": "3RX4moZuqCny"
      },
      "source": [
        "x=np.linspace(0,10,100) # this creates an array of 100 values that ranges from 0 to 100\n",
        "y=np.sin(x) # this creates a new variable, y, that is the sine of x\n",
        "plt.figure() # creates an empty figure\n",
        "plt.plot(x,y) # plots x and y"
      ],
      "execution_count": null,
      "outputs": []
    },
    {
      "cell_type": "markdown",
      "metadata": {
        "id": "-mMz-zn1qd42"
      },
      "source": [
        "Now we'll load a new package: rasterio. Rasterio is a really powerful tool for geospatial analysis, and that's what we'll use to load our raster data."
      ]
    },
    {
      "cell_type": "code",
      "metadata": {
        "id": "JNMZpFQvqpTe"
      },
      "source": [
        "import rasterio\n",
        "from rasterio.plot import show"
      ],
      "execution_count": null,
      "outputs": []
    },
    {
      "cell_type": "markdown",
      "metadata": {
        "id": "AyvnbuibqqqZ"
      },
      "source": [
        "We will now use this package to load a raster from our github repository and plot it. rasterio.open('filename.tif') will open the raster, then show will plot it."
      ]
    },
    {
      "cell_type": "code",
      "metadata": {
        "id": "q46_zeaPsCyf"
      },
      "source": [
        "elev=rasterio.open('remote-sensing-hydro/data/rasters/Rolla_srtm.tif')"
      ],
      "execution_count": null,
      "outputs": []
    },
    {
      "cell_type": "markdown",
      "metadata": {
        "id": "OwKMqfolexzN"
      },
      "source": [
        "If you didn't get any errors after running that line, the raster should be loaded. The 'elev' variable contains the raster values, as well as coordinate reference system information for the raster. Let's plot the raster first. \n",
        "\n",
        "We'll use show, which is a rasterio function for plotting rasters."
      ]
    },
    {
      "cell_type": "code",
      "metadata": {
        "id": "kq_HZ7mWe_GC"
      },
      "source": [
        "show(elev)"
      ],
      "execution_count": null,
      "outputs": []
    },
    {
      "cell_type": "markdown",
      "metadata": {
        "id": "pcbm06HofWJx"
      },
      "source": [
        "The above raster is an elevation raster over Rolla acquired by the SRTM satellite."
      ]
    },
    {
      "cell_type": "markdown",
      "metadata": {
        "id": "Gp08HBV0huux"
      },
      "source": [
        "Now, let's look at the coordinate reference system and resolution. **Look up the EPSG (you can google it) to determine the coordinate reference system name, and whether units are angular (degrees) or linear (feet or meters).**"
      ]
    },
    {
      "cell_type": "code",
      "metadata": {
        "id": "onyClxx6hxib"
      },
      "source": [
        "print(elev.crs)\n",
        "print(elev.res)"
      ],
      "execution_count": null,
      "outputs": []
    },
    {
      "cell_type": "markdown",
      "metadata": {
        "id": "rV6GpWC4iP50"
      },
      "source": [
        "**Take a screenshot showing that you completed this section. Write a few sentences about how you would use this method to load your own raster in python.**"
      ]
    }
  ]
}