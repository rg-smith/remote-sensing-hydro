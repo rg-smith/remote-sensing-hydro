{
  "nbformat": 4,
  "nbformat_minor": 0,
  "metadata": {
    "colab": {
      "name": "lab3_part2.ipynb",
      "provenance": [],
      "collapsed_sections": [],
      "authorship_tag": "ABX9TyNsgHuxyLRNLph2p2Zi/dPd",
      "include_colab_link": true
    },
    "kernelspec": {
      "name": "python3",
      "display_name": "Python 3"
    }
  },
  "cells": [
    {
      "cell_type": "markdown",
      "metadata": {
        "id": "view-in-github",
        "colab_type": "text"
      },
      "source": [
        "<a href=\"https://colab.research.google.com/github/rg-smith/remote-sensing-hydro/blob/main/labs/lab1/intro-python-part2.ipynb\" target=\"_parent\"><img src=\"https://colab.research.google.com/assets/colab-badge.svg\" alt=\"Open In Colab\"/></a>"
      ]
    },
    {
      "cell_type": "markdown",
      "metadata": {
        "id": "yYhj94SqpF1b"
      },
      "source": [
        "For this part of the lab, we will learn the basics of loading and plotting rasters. A raster is a matrix of values that can be represented by an image. An example of a raster is a photograph. Most remote sensing data are viewed as rasters."
      ]
    },
    {
      "cell_type": "markdown",
      "metadata": {
        "id": "rwHXSg96pWVA"
      },
      "source": [
        "First, we will clone the github repository, which will link all the files needed for this assignment to your Google Colab session."
      ]
    },
    {
      "cell_type": "code",
      "metadata": {
        "id": "Cjeo2YiOpC4W",
        "colab": {
          "base_uri": "https://localhost:8080/"
        },
        "outputId": "94f8028d-be54-4627-b972-6cc8277d5719"
      },
      "source": [
        "!git clone https://github.com/rg-smith/remote_sensing_course.git"
      ],
      "execution_count": null,
      "outputs": [
        {
          "output_type": "stream",
          "text": [
            "Cloning into 'remote_sensing_course'...\n",
            "remote: Enumerating objects: 59, done.\u001b[K\n",
            "remote: Counting objects: 100% (59/59), done.\u001b[K\n",
            "remote: Compressing objects: 100% (55/55), done.\u001b[K\n",
            "remote: Total 59 (delta 16), reused 0 (delta 0), pack-reused 0\u001b[K\n",
            "Unpacking objects: 100% (59/59), done.\n"
          ],
          "name": "stdout"
        }
      ]
    },
    {
      "cell_type": "markdown",
      "metadata": {
        "id": "6JcmLKnTph5O"
      },
      "source": [
        "Now, we will import some modules that we'll be using. First, we'll import numpy and matplotlib. We used these in the last lab. As a refresher, numpy is used for numerical analyses, and matplotlib is used for plotting. We only need to import these once. "
      ]
    },
    {
      "cell_type": "code",
      "metadata": {
        "id": "yhGUQu0kpsBX"
      },
      "source": [
        "import numpy as np\n",
        "import matplotlib.pyplot as plt"
      ],
      "execution_count": null,
      "outputs": []
    },
    {
      "cell_type": "markdown",
      "metadata": {
        "id": "XSUr6Q1cp1y-"
      },
      "source": [
        "Let's just do a quick refresher on using numpy and matplotlib. We'll make a sine function using numpy, and plot it using matplotlib. Follow along with the comments (text follwing the '#') to see what each line of code does."
      ]
    },
    {
      "cell_type": "code",
      "metadata": {
        "id": "3RX4moZuqCny"
      },
      "source": [
        "x=np.linspace(0,10,100) # this creates an array of 100 values that ranges from 0 to 100\n",
        "y=np.sin(x) # this creates a new variable, y, that is the sine of x\n",
        "plt.figure() # creates an empty figure\n",
        "plt.plot(x,y) # plots x and y"
      ],
      "execution_count": null,
      "outputs": []
    },
    {
      "cell_type": "markdown",
      "metadata": {
        "id": "-mMz-zn1qd42"
      },
      "source": [
        "Now we'll load a new package: gdal. Gdal is a really powerful tool for geospatial analysis, and that's what we'll use to load our raster data."
      ]
    },
    {
      "cell_type": "code",
      "metadata": {
        "id": "JNMZpFQvqpTe"
      },
      "source": [
        "import gdal"
      ],
      "execution_count": null,
      "outputs": []
    },
    {
      "cell_type": "markdown",
      "metadata": {
        "id": "AyvnbuibqqqZ"
      },
      "source": [
        "We're going to make a function now that is used to load a raster using functions from the gdal module. The function will return two things: the raster, and an object that contains geospatial information about the raster, like its coordinates, coordinate reference system, and pixel size."
      ]
    },
    {
      "cell_type": "code",
      "metadata": {
        "id": "dDmIofwFq-c5"
      },
      "source": [
        "def load_raster(fname,band=1):\n",
        "    ds=gdal.Open(fname)\n",
        "    band=ds.GetRasterBand(band)\n",
        "    data=band.ReadAsArray()\n",
        "    return(data,ds)"
      ],
      "execution_count": null,
      "outputs": []
    },
    {
      "cell_type": "markdown",
      "metadata": {
        "id": "cfv8A55FrlTW"
      },
      "source": [
        "The function above takes two arguments: the filename of the raster that you are loading, and the band number. Some raster files are stacked, meaning there are multiple rasters that are stored in the same filename. Each raster in that filename is a band. Photographs are stored like this. Each photograph has three bands: red, green and blue. The default value for the 'band' argument is 1, so if you do not provide that argument, the first band of the raster is taken. The rasters we're loading today have only one band, so we'll just use the default value for that argument."
      ]
    },
    {
      "cell_type": "code",
      "metadata": {
        "id": "q46_zeaPsCyf"
      },
      "source": [
        "elev,ds=load_raster('remote_sensing_course/rasters/Rolla_srtm.tif')"
      ],
      "execution_count": null,
      "outputs": []
    },
    {
      "cell_type": "markdown",
      "metadata": {
        "id": "OwKMqfolexzN"
      },
      "source": [
        "If you didn't get any errors after running that line, the raster should be loaded. The first output (infrared_band) is the raster itself, and the second output (ds) is the metadata containing the geographic information for the raster. Let's plot the raster first. \n",
        "\n",
        "We'll use plt.imshow, which is a matplotlib function for plotting rasters."
      ]
    },
    {
      "cell_type": "code",
      "metadata": {
        "id": "kq_HZ7mWe_GC"
      },
      "source": [
        "plt.figure()\n",
        "plt.imshow(elev)\n",
        "plt.colorbar() # as the name implies, this adds a colorbar to the image"
      ],
      "execution_count": null,
      "outputs": []
    },
    {
      "cell_type": "markdown",
      "metadata": {
        "id": "pcbm06HofWJx"
      },
      "source": [
        "The above raster is an elevation raster over Rolla acquired by the SRTM satellite."
      ]
    },
    {
      "cell_type": "markdown",
      "metadata": {
        "id": "Gp08HBV0huux"
      },
      "source": [
        "Now, let's look at the geographic information."
      ]
    },
    {
      "cell_type": "code",
      "metadata": {
        "id": "onyClxx6hxib"
      },
      "source": [
        "print(ds.GetGeoTransform())"
      ],
      "execution_count": null,
      "outputs": []
    },
    {
      "cell_type": "markdown",
      "metadata": {
        "id": "Y1UinABMh6li"
      },
      "source": [
        "The GeoTransform, shown above, displays the x coordinate of the top-left pixel (first value), the pixel size in the x direction (second value), the y coordinate of the top-left pixel (fourth value), and the pixel size in the y direction (last value)."
      ]
    },
    {
      "cell_type": "markdown",
      "metadata": {
        "id": "rV6GpWC4iP50"
      },
      "source": [
        "**Take a screenshot showing that you completed this section. Write a few sentences about how you would use this method to load your own raster in python.**"
      ]
    }
  ]
}