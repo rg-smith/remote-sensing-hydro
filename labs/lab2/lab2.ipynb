{
  "nbformat": 4,
  "nbformat_minor": 0,
  "metadata": {
    "colab": {
      "name": "rs-hydro-lab2.ipynb",
      "provenance": [],
      "collapsed_sections": [],
      "include_colab_link": true
    },
    "kernelspec": {
      "name": "python3",
      "display_name": "Python 3"
    }
  },
  "cells": [
    {
      "cell_type": "markdown",
      "metadata": {
        "id": "view-in-github",
        "colab_type": "text"
      },
      "source": [
        "<a href=\"https://colab.research.google.com/github/rg-smith/remote-sensing-hydro/blob/main/labs/lab2/lab2.ipynb\" target=\"_parent\"><img src=\"https://colab.research.google.com/assets/colab-badge.svg\" alt=\"Open In Colab\"/></a>"
      ]
    },
    {
      "cell_type": "markdown",
      "metadata": {
        "id": "wEL4beddP9LP"
      },
      "source": [
        "# Lab 2\n",
        "\n",
        "In this lab, you will use python (and a module called Google Earth Engine) to view satellite imagery, and access precipitation datasets.\n",
        "\n",
        "Before starting the sections, we will import the modules we need, initialize Google Earth Engine, and define some functions."
      ]
    },
    {
      "cell_type": "markdown",
      "metadata": {
        "id": "PFTvpuKbQ1SY"
      },
      "source": [
        "The first block of code only needs to be run once, the first time you open your session (if you close out of the session and open again, you will need to run this again). Follow the prompts to initialize earth engine. You will be taken to a link where you need to give permission to link your google account with Google Earth Engine, then copy and paste some text below the code block."
      ]
    },
    {
      "cell_type": "code",
      "metadata": {
        "id": "bMC9C9SKMhgz"
      },
      "source": [
        "import ee\n",
        "import folium\n",
        "import numpy as np\n",
        "import branca.colormap as cm\n",
        "\n",
        "from google.colab import drive\n",
        "drive.mount('/content/drive/')\n",
        "\n",
        "ee.Authenticate()\n",
        "ee.Initialize()"
      ],
      "execution_count": null,
      "outputs": []
    },
    {
      "cell_type": "markdown",
      "metadata": {
        "id": "0hD7poLQReog"
      },
      "source": [
        "This block of code also only needs to be run once. It is defining a bunch of functions that you will use in this exercise. It is not important for you to understand the code here for this exercise."
      ]
    },
    {
      "cell_type": "code",
      "metadata": {
        "id": "n-9383M2OZd1"
      },
      "source": [
        "# functions needed for this lab (and some other useful ones that you can use if you're interested)\n",
        "\n",
        "# to add a layer to our map:\n",
        "def add_ee_layer(self, ee_object, name):\n",
        "    try:    \n",
        "        # display ee.Image()\n",
        "        if isinstance(ee_object, ee.image.Image):  \n",
        "            range = ee.Image(ee_object).reduceRegion(ee.Reducer.percentile([1, 99]),scale=10000)\n",
        "            vals = range.getInfo()\n",
        "            min=list(vals.items())[0][1]\n",
        "            max=list(vals.items())[1][1]\n",
        "            vis = {'min': min, 'max': max, 'palette': ['0000FF', 'FFFFFF','FF0000']}\n",
        "\n",
        "            map_id_dict = ee.Image(ee_object).getMapId(vis)\n",
        "            folium.raster_layers.TileLayer(\n",
        "            tiles = map_id_dict['tile_fetcher'].url_format,\n",
        "            attr = 'Google Earth Engine',\n",
        "            name = name,\n",
        "            overlay = True,\n",
        "            control = True\n",
        "            ).add_to(self)\n",
        "            colormap = cm.LinearColormap(vmin=min,vmax=max,colors=['blue', 'white','red']).to_step(n=10)\n",
        "            colormap.caption=name\n",
        "            self.add_child(colormap)\n",
        "        # display ee.ImageCollection()\n",
        "        elif isinstance(ee_object, ee.imagecollection.ImageCollection):    \n",
        "            ee_object_new = ee_object.mosaic()\n",
        "            map_id_dict = ee.Image(ee_object_new).getMapId(vis_params)\n",
        "            folium.raster_layers.TileLayer(\n",
        "            tiles = map_id_dict['tile_fetcher'].url_format,\n",
        "            attr = 'Google Earth Engine',\n",
        "            name = name,\n",
        "            overlay = True,\n",
        "            control = True\n",
        "            ).add_to(self)\n",
        "        # display ee.Geometry()\n",
        "        elif isinstance(ee_object, ee.geometry.Geometry):    \n",
        "            folium.GeoJson(\n",
        "            data = ee_object.getInfo(),\n",
        "            name = name,\n",
        "            overlay = True,\n",
        "            control = True\n",
        "        ).add_to(self)\n",
        "        # display ee.FeatureCollection()\n",
        "        elif isinstance(ee_object, ee.featurecollection.FeatureCollection):  \n",
        "            ee_object_new = ee.Image().paint(ee_object, 0, 2)\n",
        "            map_id_dict = ee.Image(ee_object_new).getMapId(vis_params)\n",
        "            folium.raster_layers.TileLayer(\n",
        "            tiles = map_id_dict['tile_fetcher'].url_format,\n",
        "            attr = 'Google Earth Engine',\n",
        "            name = name,\n",
        "            overlay = True,\n",
        "            control = True\n",
        "        ).add_to(self)\n",
        "    \n",
        "    except Exception as e:\n",
        "        print(\"Could not display {}\".format(name))\n",
        "        print(e)\n",
        "\n",
        "# to convert a google earth engine image to a python array\n",
        "def to_array(img,aoi):\n",
        "  band_arrs = img.sampleRectangle(region=aoi,properties=['scale=1000'],defaultValue=-999)\n",
        "\n",
        "  band_names=img.bandNames().getInfo()\n",
        "\n",
        "  for kk in range(len(band_names)):\n",
        "    if kk==0:\n",
        "      dat1=np.array(band_arrs.get(band_names[kk]).getInfo())\n",
        "      dat_full=np.zeros((dat1.shape[0],dat1.shape[1],len(band_names)))\n",
        "      dat_full[:,:,kk]=dat1\n",
        "    else:\n",
        "      dat=np.array(band_arrs.get(band_names[kk]).getInfo())\n",
        "      dat_full[:,:,kk]=dat\n",
        "  return(dat_full)\n",
        "\n",
        "# to calculate an index\n",
        "def getIndex(image,b1,b2):\n",
        "  return image.normalizedDifference([b1, b2])\n",
        "\n",
        "# to calculate a ratio\n",
        "def getRatio(image1,image2):\n",
        "  ratio=image1.divide(image2)\n",
        "  return ratio\n",
        "\n",
        "# to create a color map from a specific image\n",
        "def getVisparams(image,aoi):\n",
        "  range = image.reduceRegion(ee.Reducer.percentile([1, 99]),aoi,300)\n",
        "  vals = range.getInfo()\n",
        "  min=list(vals.items())[0][1]\n",
        "  max=list(vals.items())[1][1]\n",
        "  visParams = {'min': min, 'max': max, 'palette': ['0000FF', 'FFFFFF','FF0000']}\n",
        "  return(visParams)\n",
        "\n",
        "# to get the link to download an earth engine image\n",
        "def getLink(image,aoi):\n",
        "  link = image.getDownloadURL({\n",
        "    'scale': 1000,\n",
        "    'crs': 'EPSG:4326',\n",
        "    'fileFormat': 'GeoTIFF',\n",
        "    'region': aoi})\n",
        "  print(link)\n",
        "\n",
        "# create an earth engine geometry polygon\n",
        "def addGeometry(min_lon,max_lon,min_lat,max_lat):\n",
        "  import ee\n",
        "  geom = ee.Geometry.Polygon(\n",
        "      [[[min_lon, max_lat],\n",
        "        [min_lon, min_lat],\n",
        "        [max_lon, min_lat],\n",
        "        [max_lon, max_lat]]])\n",
        "  return(geom)\n",
        "\n",
        "# load prism data\n",
        "def get_prism_image(date1,date2,geometry):\n",
        "  import ee\n",
        "  prism = ee.ImageCollection('OREGONSTATE/PRISM/AN81m')\n",
        "  prism_img = prism.filterDate(date1,date2).select('ppt').mean().clip(geometry)\n",
        "  return(prism_img) # returns prism average monthly precipitation, in mm\n",
        "\n",
        "# load landsat 8 data\n",
        "def get_l8_image(date1,date2,geometry):\n",
        "  import ee\n",
        "  l8 = ee.ImageCollection('LANDSAT/LC08/C01/T1_RT')\n",
        "  l8_img = l8.filterDate(date1,date2).mean().clip(geometry)\n",
        "  return(l8_img)\n",
        "\n",
        "def export_to_drive(raster,filename,foldername,geometry):\n",
        "  # Export the image, specifying scale and region.\n",
        "  task = ee.batch.Export.image.toDrive(**{\n",
        "      'image': raster,\n",
        "      'description': filename,\n",
        "      'folder': foldername,\n",
        "      'fileNamePrefix': filename,\n",
        "      'scale': 1000,\n",
        "      'region': geometry,\n",
        "      'fileFormat': 'GeoTIFF',\n",
        "      'formatOptions': {\n",
        "        'cloudOptimized': 'true'\n",
        "      },\n",
        "  })\n",
        "  task.start()\n",
        "\n",
        "def get_elev(geometry):\n",
        "  import ee\n",
        "  elev = ee.Image('USGS/NED').clip(geometry)\n",
        "  return(elev)\n",
        "\n",
        "def get_srtm(geometry):\n",
        "  import ee\n",
        "  elev = ee.Image('USGS/SRTMGL1_003').clip(geometry)\n",
        "  return(elev)\n",
        "\n",
        "def get_gpm_image(date1,date2,geometry):\n",
        "  import ee\n",
        "  gpm = ee.ImageCollection('NASA/GPM_L3/IMERG_MONTHLY_V06')\n",
        "  gpm_img = gpm.filterDate(date1,date2).select('precipitation').mean().multiply(24*365/12).clip(geometry)\n",
        "  return(gpm_img) # returns gpm average monthly precipitation in mm\n",
        "\n",
        "# load sentinel 2 data\n",
        "def get_s2_image(date1,date2,geometry):\n",
        "    import ee\n",
        "    s2 = ee.ImageCollection('COPERNICUS/S2')\n",
        "    s2_img = s2.filterDate(date1,date2).filterBounds(geometry).first().clip(geometry)\n",
        "    return(s2_img)\n",
        "\n",
        "# Add EE drawing method to folium.\n",
        "folium.Map.add_ee_layer = add_ee_layer"
      ],
      "execution_count": null,
      "outputs": []
    },
    {
      "cell_type": "markdown",
      "metadata": {
        "id": "mPB43w6tRrSW"
      },
      "source": [
        "# Part 1: Viewing precipitation data for a given geometry and date\n",
        "\n",
        " "
      ]
    },
    {
      "cell_type": "markdown",
      "metadata": {
        "id": "rPP3FMD4SQKM"
      },
      "source": [
        "First, we will define the study area and time period and load some PRISM, GPM and elevation data."
      ]
    },
    {
      "cell_type": "code",
      "metadata": {
        "id": "3ee4KySvtxDb"
      },
      "source": [
        "# create a bounding box that defines the study area\n",
        "geom = addGeometry(-110, -105,40,45) # min long, max long, min lat, max lat\n",
        "\n",
        "# define dates of interest (inclusive).\n",
        "start = '2020-04-01'\n",
        "end = '2021-04-01' #can go up to april 2021\n",
        "\n",
        "# get elevation data\n",
        "elev = get_elev(geom)\n",
        "\n",
        "# now get gpm precipitation over the same region for a specified time period\n",
        "gpm_img = get_gpm_image(start,end,geom)\n",
        "\n",
        "# now get prism precipitation over the same time period/region\n",
        "prism_img = get_prism_image(start,end,geom)"
      ],
      "execution_count": null,
      "outputs": []
    },
    {
      "cell_type": "markdown",
      "metadata": {
        "id": "G6NTOA9oULq-"
      },
      "source": [
        "Now, we will view the map. Scroll to the top so you can check/uncheck layers. Take a screenshot for your lab report."
      ]
    },
    {
      "cell_type": "code",
      "metadata": {
        "id": "LclSbsmkt4Zq"
      },
      "source": [
        "my_map = folium.Map(location=[42.5, -107], zoom_start=6)\n",
        "\n",
        "# Add the land cover to the map object.\n",
        "#my_map.add_ee_layer(l8_img,'Landsat 8')\n",
        "my_map.add_ee_layer(elev,'Elevation')\n",
        "my_map.add_ee_layer(prism_img,'PRISM precip')\n",
        "my_map.add_ee_layer(gpm_img,'GPM precip')\n",
        "\n",
        "my_map.add_ee_layer(geom,'bounding box')\n",
        "\n",
        "# Add a layer control panel to the map.\n",
        "my_map.add_child(folium.LayerControl())\n",
        "\n",
        "# Display the map.\n",
        "display(my_map)"
      ],
      "execution_count": null,
      "outputs": []
    },
    {
      "cell_type": "markdown",
      "metadata": {
        "id": "VL6Sg2I2inyL"
      },
      "source": [
        "Now, we will export the tiffs to your Google Colab folder (this is a folder in your Google Drive storage). We will then use some other python functions to do analysis. After you run the code below, it will take a few minutes to save the files to your Google Drive. Move on to the next step while you're waiting."
      ]
    },
    {
      "cell_type": "code",
      "metadata": {
        "id": "0mq0A4KdhU7s"
      },
      "source": [
        "export_to_drive(gpm_img,'lab2_gpm_precip_CO','Colab Notebooks',geom) # raster, file name, folder name, geometry to clip it with\n",
        "export_to_drive(elev,'lab2_elev_CO','Colab Notebooks',geom)\n",
        "export_to_drive(prism_img,'lab2_prism_precip_CO','Colab Notebooks',geom)"
      ],
      "execution_count": null,
      "outputs": []
    },
    {
      "cell_type": "markdown",
      "metadata": {
        "id": "tR37-cMAVARE"
      },
      "source": [
        "While you're waiting, try a different way of downloading the rasters below. Once you have downloaded them, load them into QGIS. Reproject the elevation dataset to a projected coordinate reference system (UTM Zone 15N, WGS84 is a good choice). You can do this by right-clicking on the elevation file, Export, then specify the coordinate reference system.\n",
        "\n",
        "Calculate the slope of the projected coordinate reference system (Raster -> Analysis -> Slope).\n",
        "\n",
        "Identify an area with high landslide risk (high slope/high precipitation), and make a shapefile  over that region.\n",
        "\n",
        "Take a screenshot and include with your report.\n",
        "\n",
        "The precipitation units are the average monthly precipitation in mm. What is the maximum/minimum total precipitation over the study period?"
      ]
    },
    {
      "cell_type": "code",
      "metadata": {
        "id": "Lz83KHaegOPk"
      },
      "source": [
        "print('GPM precipitation raster download:')\n",
        "getLink(gpm_img,geom)\n",
        "print('Elevation raster download:')\n",
        "getLink(elev,geom)\n",
        "print('PRISM precipitation raster download:')\n",
        "getLink(prism_img,geom)"
      ],
      "execution_count": null,
      "outputs": []
    },
    {
      "cell_type": "markdown",
      "metadata": {
        "id": "gccdXxb2GcTu"
      },
      "source": [
        "Now, we will load the rasters we just downloaded with a separate python package--rasterio--and compare GPM with PRISM."
      ]
    },
    {
      "cell_type": "code",
      "metadata": {
        "id": "lgnOcr4NGVnD"
      },
      "source": [
        "!pip install rasterio\n",
        "import rasterio\n",
        "from rasterio.warp import reproject\n",
        "import matplotlib.pyplot as plt"
      ],
      "execution_count": null,
      "outputs": []
    },
    {
      "cell_type": "markdown",
      "metadata": {
        "id": "BvIb2SjrG5j0"
      },
      "source": [
        "Click on the 'Files' tab on the left. Go to drive > MyDrive > Colab Notebooks. You should see some '.tif' files for prism, gpm and elevation data. If you don't see them yet, you may have to wait a few minutes for them to get saved to the cloud.\n",
        "\n",
        "Now you will load the rasters into python with rasterio. This package works more easily with the usual python packages, making plotting easier."
      ]
    },
    {
      "cell_type": "code",
      "metadata": {
        "id": "KuDGSQzwG3SH"
      },
      "source": [
        "folder_location='drive/MyDrive/Colab Notebooks/'\n",
        "gpm=rasterio.open(folder_location+'lab2_gpm_precip_CO.tif')\n",
        "prism=rasterio.open(folder_location+'lab2_prism_precip_CO.tif')\n",
        "elev=rasterio.open(folder_location+'lab2_elev_CO.tif')"
      ],
      "execution_count": null,
      "outputs": []
    },
    {
      "cell_type": "markdown",
      "metadata": {
        "id": "FxEGaHrfJym5"
      },
      "source": [
        "Now, we will make a crossplot of PRISM and GPM data, with points colored by elevation. PRISM are considered more accurate generally. Comment on the accuracy of the GPM data."
      ]
    },
    {
      "cell_type": "code",
      "metadata": {
        "id": "5czRL90mJXGZ"
      },
      "source": [
        "gpm_flat=gpm.read().flatten()\n",
        "prism_flat=prism.read().flatten()\n",
        "elev_flat=elev.read().flatten()\n",
        "plt.figure(figsize=(12,8));plt.scatter(gpm_flat,prism_flat,c=elev_flat,s=1)\n",
        "reference_line=[np.nanmin(gpm_flat),np.nanmax(gpm_flat)]\n",
        "plt.plot(reference_line,reference_line,'r')\n",
        "plt.xlabel('GPM precipitation, mm/month')\n",
        "plt.ylabel('PRISM precipitation, mm/month')\n",
        "plt.colorbar()"
      ],
      "execution_count": null,
      "outputs": []
    },
    {
      "cell_type": "markdown",
      "metadata": {
        "id": "pXw_oaR9Si0J"
      },
      "source": [
        "# Part 2: Repeat the above process, but this time do it over the study area for your term project\n",
        "\n",
        "If you haven't decided on a location for your project yet, you can select an area you are considering for your term project. It's OK to change later.\n",
        "\n",
        "You will need to 'fill in the blanks' for the code below."
      ]
    },
    {
      "cell_type": "code",
      "metadata": {
        "id": "ov0AgBbuSmsX"
      },
      "source": [
        "# create a bounding box that defines the study area. This will cover the Lake of the Ozarks region\n",
        "geom_study_area = addGeometry(?,?,?,?) # min long, max long, min lat, max lat\n",
        "\n",
        "# define dates of interest (inclusive).\n",
        "start = '?'\n",
        "end = '?'\n",
        "\n",
        "# use the tools in the example from Part 1 to pull GPM precip and elevation data. \n",
        "# NOTE: if you are workin in a region outside of the US, the get_elev function will not work\n",
        "# (it uses the National Elevation Dataset which only covers the US). Use the get_srtm function instead"
      ],
      "execution_count": null,
      "outputs": []
    },
    {
      "cell_type": "markdown",
      "metadata": {
        "id": "XYQbJiMJWZy-"
      },
      "source": [
        "Now, you will display the map. Try at least three different indices. Include a screenshot and description of what wavelengths you used for each one in your lab report."
      ]
    },
    {
      "cell_type": "code",
      "metadata": {
        "id": "RuRFha_Vv-IN"
      },
      "source": [
        "my_map = folium.Map(location=[?, ?], zoom_start=11) # location values should be lat, lon. zoom_start: lower values are more zoomed out. Adjust until it looks right.\n",
        "\n",
        "# Add the land cover to the map object.\n",
        "my_map.add_ee_layer(?,'? label')\n",
        "my_map.add_ee_layer(?,'? label')\n",
        "my_map.add_ee_layer(geom_study_area,'bounding box')\n",
        "\n",
        "# Add a layer control panel to the map.\n",
        "my_map.add_child(folium.LayerControl())\n",
        "\n",
        "# Display the map.\n",
        "display(my_map)"
      ],
      "execution_count": null,
      "outputs": []
    },
    {
      "cell_type": "markdown",
      "metadata": {
        "id": "KGuwvkABDu67"
      },
      "source": [
        "Download these rasters and display in QGIS as you did before. Repeat the same exercise -- reproject the elevation to a projected CRS, then calculate slope and identify an area of high landslide risk.\n",
        "\n",
        "As before, determine the average precipitation over the study period."
      ]
    },
    {
      "cell_type": "code",
      "metadata": {
        "id": "znHUDcKxD5hz"
      },
      "source": [
        "print('GPM precipitation raster download:')\n",
        "getLink(?,geom_study_area)\n",
        "print('Elevation raster download:')\n",
        "getLink(?,geom_study_area)\n",
        "print('PRISM precipitation raster download')\n",
        "getLink(?,geom)"
      ],
      "execution_count": null,
      "outputs": []
    },
    {
      "cell_type": "markdown",
      "metadata": {
        "id": "EnsD4Xm1mIOv"
      },
      "source": [
        "If you'd like to get more familiar with python, try creating a new code block to do the same analysis as before (load the rasters with rasterio, then make a crossplot). It's mostly just copying code from above, and changing filenames. This part is not required, but if you try it, you will get more comfortable with python."
      ]
    }
  ]
}