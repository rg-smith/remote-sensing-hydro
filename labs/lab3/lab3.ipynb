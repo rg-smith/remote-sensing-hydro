{
  "nbformat": 4,
  "nbformat_minor": 0,
  "metadata": {
    "colab": {
      "name": "RS-hydro-lab3.ipynb",
      "provenance": [],
      "collapsed_sections": [],
      "include_colab_link": true
    },
    "kernelspec": {
      "name": "python3",
      "display_name": "Python 3"
    }
  },
  "cells": [
    {
      "cell_type": "markdown",
      "metadata": {
        "id": "view-in-github",
        "colab_type": "text"
      },
      "source": [
        "<a href=\"https://colab.research.google.com/github/rg-smith/remote-sensing-hydro/blob/main/labs/lab3/lab3.ipynb\" target=\"_parent\"><img src=\"https://colab.research.google.com/assets/colab-badge.svg\" alt=\"Open In Colab\"/></a>"
      ]
    },
    {
      "cell_type": "markdown",
      "metadata": {
        "id": "wEL4beddP9LP"
      },
      "source": [
        "# Lab 3\n",
        "\n",
        "Use this notebook if you aren't able to get python working on your local computer. \n",
        "\n",
        "In this lab, you will use python (and a module called Google Earth Engine) to view satellite imagery, and access remotely sensed evapotranspiration datasets and compare them with precipitation and eddy flux evapotranspiration datasets.\n",
        "\n",
        "Before starting the sections, we will import the modules we need, initialize Google Earth Engine, and define some functions."
      ]
    },
    {
      "cell_type": "markdown",
      "metadata": {
        "id": "PFTvpuKbQ1SY"
      },
      "source": [
        "The first block of code only needs to be run once, the first time you open your session (if you close out of the session and open again, you will need to run this again). Follow the prompts to initialize earth engine. You will be taken to a link where you need to give permission to link your google account with Google Earth Engine, then copy and paste some text below the code block."
      ]
    },
    {
      "cell_type": "code",
      "metadata": {
        "id": "bMC9C9SKMhgz"
      },
      "source": [
        "import ee\n",
        "import folium\n",
        "import numpy as np\n",
        "import branca.colormap as cm\n",
        "import pandas as pd\n",
        "import matplotlib.pyplot as plt\n",
        "\n",
        "!pip install rasterio geopandas\n",
        "import rasterio\n",
        "import geopandas as gpd\n",
        "\n",
        "from google.colab import drive\n",
        "drive.mount('/content/drive/')\n",
        "\n",
        "if not ee.data._credentials:\n",
        "    ee.Authenticate()\n",
        "    ee.Initialize()"
      ],
      "execution_count": null,
      "outputs": []
    },
    {
      "cell_type": "markdown",
      "metadata": {
        "id": "0hD7poLQReog"
      },
      "source": [
        "This block of code also only needs to be run once. It is defining a bunch of functions that you will use in this exercise. It is not important for you to understand the code here for this exercise."
      ]
    },
    {
      "cell_type": "code",
      "metadata": {
        "id": "n-9383M2OZd1"
      },
      "source": [
        "# functions needed for this lab (and some other useful ones that you can use if you're interested)\n",
        "\n",
        "# to add a layer to our map:\n",
        "def add_ee_layer(self, ee_object, name):\n",
        "    try:    \n",
        "        # display ee.Image()\n",
        "        if isinstance(ee_object, ee.image.Image):  \n",
        "            range = ee.Image(ee_object).reduceRegion(ee.Reducer.percentile([1, 99]),scale=10000)\n",
        "            vals = range.getInfo()\n",
        "            min=list(vals.items())[0][1]\n",
        "            max=list(vals.items())[1][1]\n",
        "            vis = {'min': min, 'max': max, 'palette': ['0000FF', 'FFFFFF','FF0000']}\n",
        "\n",
        "            map_id_dict = ee.Image(ee_object).getMapId(vis)\n",
        "            folium.raster_layers.TileLayer(\n",
        "            tiles = map_id_dict['tile_fetcher'].url_format,\n",
        "            attr = 'Google Earth Engine',\n",
        "            name = name,\n",
        "            overlay = True,\n",
        "            control = True\n",
        "            ).add_to(self)\n",
        "            colormap = cm.LinearColormap(vmin=min,vmax=max,colors=['blue', 'white','red']).to_step(n=10)\n",
        "            colormap.caption=name\n",
        "            self.add_child(colormap)\n",
        "        # display ee.ImageCollection()\n",
        "        elif isinstance(ee_object, ee.imagecollection.ImageCollection):    \n",
        "            ee_object_new = ee_object.mosaic()\n",
        "            map_id_dict = ee.Image(ee_object_new).getMapId(vis_params)\n",
        "            folium.raster_layers.TileLayer(\n",
        "            tiles = map_id_dict['tile_fetcher'].url_format,\n",
        "            attr = 'Google Earth Engine',\n",
        "            name = name,\n",
        "            overlay = True,\n",
        "            control = True\n",
        "            ).add_to(self)\n",
        "        # display ee.Geometry()\n",
        "        elif isinstance(ee_object, ee.geometry.Geometry):    \n",
        "            folium.GeoJson(\n",
        "            data = ee_object.getInfo(),\n",
        "            name = name,\n",
        "            overlay = True,\n",
        "            control = True\n",
        "        ).add_to(self)\n",
        "        # display ee.FeatureCollection()\n",
        "        elif isinstance(ee_object, ee.featurecollection.FeatureCollection):  \n",
        "            ee_object_new = ee.Image().paint(ee_object, 0, 2)\n",
        "            map_id_dict = ee.Image(ee_object_new).getMapId(vis_params)\n",
        "            folium.raster_layers.TileLayer(\n",
        "            tiles = map_id_dict['tile_fetcher'].url_format,\n",
        "            attr = 'Google Earth Engine',\n",
        "            name = name,\n",
        "            overlay = True,\n",
        "            control = True\n",
        "        ).add_to(self)\n",
        "    \n",
        "    except Exception as e:\n",
        "        print(\"Could not display {}\".format(name))\n",
        "        print(e)\n",
        "\n",
        "# convert ee image collection to pandas time series data frame\n",
        "def ee_imgcoll_to_df(imagecollection, lat,lon):\n",
        "    \"\"\"Transforms client-side ee.Image.getRegion array to pandas.DataFrame.\"\"\"\n",
        "    poi = ee.Geometry.Point(lon, lat)\n",
        "    arr = imagecollection.getRegion(poi,500).getInfo()\n",
        "\n",
        "    list_of_bands = imagecollection.first().bandNames().getInfo()\n",
        "\n",
        "    df = pd.DataFrame(arr)\n",
        "\n",
        "    # Rearrange the header.\n",
        "    headers = df.iloc[0]\n",
        "    df = pd.DataFrame(df.values[1:], columns=headers)\n",
        "\n",
        "    # Remove rows without data inside.\n",
        "    df = df[['longitude', 'latitude', 'time', *list_of_bands]].dropna()\n",
        "\n",
        "    # Convert the data to numeric values.\n",
        "    for band in list_of_bands:\n",
        "        df[band] = pd.to_numeric(df[band], errors='coerce')\n",
        "\n",
        "    # Convert the time field into a datetime.\n",
        "    df['datetime'] = pd.to_datetime(df['time'], unit='ms')\n",
        "\n",
        "    # Keep the columns of interest.\n",
        "    df = df[['time','datetime',  *list_of_bands]]\n",
        "\n",
        "    return df\n",
        "\n",
        "# to convert a google earth engine image to a python array\n",
        "def to_array(img,aoi):\n",
        "  band_arrs = img.sampleRectangle(region=aoi,properties=['scale=1000'],defaultValue=-999)\n",
        "\n",
        "  band_names=img.bandNames().getInfo()\n",
        "\n",
        "  for kk in range(len(band_names)):\n",
        "    if kk==0:\n",
        "      dat1=np.array(band_arrs.get(band_names[kk]).getInfo())\n",
        "      dat_full=np.zeros((dat1.shape[0],dat1.shape[1],len(band_names)))\n",
        "      dat_full[:,:,kk]=dat1\n",
        "    else:\n",
        "      dat=np.array(band_arrs.get(band_names[kk]).getInfo())\n",
        "      dat_full[:,:,kk]=dat\n",
        "  return(dat_full)\n",
        "\n",
        "# to calculate an index\n",
        "def getIndex(image,b1,b2):\n",
        "  return image.normalizedDifference([b1, b2])\n",
        "\n",
        "# to calculate a ratio\n",
        "def getRatio(image1,image2):\n",
        "  ratio=image1.divide(image2)\n",
        "  return ratio\n",
        "\n",
        "# to create a color map from a specific image\n",
        "def getVisparams(image,aoi):\n",
        "  range = image.reduceRegion(ee.Reducer.percentile([1, 99]),aoi,300)\n",
        "  vals = range.getInfo()\n",
        "  min=list(vals.items())[0][1]\n",
        "  max=list(vals.items())[1][1]\n",
        "  visParams = {'min': min, 'max': max, 'palette': ['0000FF', 'FFFFFF','FF0000']}\n",
        "  return(visParams)\n",
        "\n",
        "# to get the link to download an earth engine image\n",
        "def getLink(image,aoi):\n",
        "  link = image.getDownloadURL({\n",
        "    'scale': 1000,\n",
        "    'crs': 'EPSG:4326',\n",
        "    'fileFormat': 'GeoTIFF',\n",
        "    'region': aoi})\n",
        "  print(link)\n",
        "\n",
        "# create an earth engine geometry polygon\n",
        "def addGeometry(min_lon,max_lon,min_lat,max_lat):\n",
        "  geom = ee.Geometry.Polygon(\n",
        "      [[[min_lon, max_lat],\n",
        "        [min_lon, min_lat],\n",
        "        [max_lon, min_lat],\n",
        "        [max_lon, max_lat]]])\n",
        "  return(geom)\n",
        "\n",
        "# load prism data\n",
        "def get_prism_image(date1,date2,geometry):\n",
        "  prism = ee.ImageCollection('OREGONSTATE/PRISM/AN81m')\n",
        "  prism_img = prism.filterDate(date1,date2).select('ppt').mean().clip(geometry)\n",
        "  return(prism_img) # returns prism average monthly precipitation, in mm\n",
        "\n",
        "# load landsat 8 data\n",
        "def get_l8_image(date1,date2,geometry):\n",
        "  l8 = ee.ImageCollection('LANDSAT/LC08/C01/T1_RT')\n",
        "  l8_img = l8.filterDate(date1,date2).mean().clip(geometry)\n",
        "  return(l8_img)\n",
        "\n",
        "def export_to_drive(raster,filename,foldername,geometry):\n",
        "  # Export the image, specifying scale and region.\n",
        "  task = ee.batch.Export.image.toDrive(**{\n",
        "      'image': raster,\n",
        "      'description': filename,\n",
        "      'folder': foldername,\n",
        "      'fileNamePrefix': filename,\n",
        "      'scale': 1000,\n",
        "      'region': geometry,\n",
        "      'fileFormat': 'GeoTIFF',\n",
        "      'formatOptions': {\n",
        "        'cloudOptimized': 'true'\n",
        "      },\n",
        "  })\n",
        "  task.start()\n",
        "\n",
        "def get_elev(geometry):\n",
        "  elev = ee.Image('USGS/NED').clip(geometry)\n",
        "  return(elev)\n",
        "\n",
        "def get_srtm(geometry):\n",
        "  elev = ee.Image('USGS/SRTMGL1_003').clip(geometry)\n",
        "  return(elev)\n",
        "\n",
        "def get_gpm_image(date1,date2,geometry):\n",
        "  gpm = ee.ImageCollection('NASA/GPM_L3/IMERG_MONTHLY_V06')\n",
        "  gpm_img = gpm.filterDate(date1,date2).select('precipitation').sum().multiply(24*365/12).clip(geometry)\n",
        "  return(gpm_img) # returns total gpm precipitation in mm\n",
        "\n",
        "def get_mod16ET(date1,date2,geometry):\n",
        "  mod16 = ee.ImageCollection('MODIS/006/MOD16A2')\n",
        "  mod16_img = mod16.filterDate(date1,date2).select('ET').sum().divide(10).clip(geometry)\n",
        "  return(mod16_img)\n",
        "\n",
        "def get_mod16PET(date1,date2,geometry):\n",
        "  mod16 = ee.ImageCollection('MODIS/006/MOD16A2')\n",
        "  mod16_img = mod16.filterDate(date1,date2).select('PET').sum().divide(10).clip(geometry)\n",
        "  return(mod16_img)\n",
        "\n",
        "# load sentinel 2 data\n",
        "def get_s2_image(date1,date2,geometry):\n",
        "    s2 = ee.ImageCollection('COPERNICUS/S2')\n",
        "    s2_img = s2.filterDate(date1,date2).filterBounds(geometry).first().clip(geometry)\n",
        "    return(s2_img)\n",
        "\n",
        "# Add EE drawing method to folium.\n",
        "folium.Map.add_ee_layer = add_ee_layer"
      ],
      "execution_count": null,
      "outputs": []
    },
    {
      "cell_type": "markdown",
      "metadata": {
        "id": "mPB43w6tRrSW"
      },
      "source": [
        "# Part 1: Viewing data for a given geometry and date\n",
        "\n",
        " "
      ]
    },
    {
      "cell_type": "markdown",
      "metadata": {
        "id": "rPP3FMD4SQKM"
      },
      "source": [
        "First, we will define the study area and time period and load some PRISM, GPM and elevation data."
      ]
    },
    {
      "cell_type": "code",
      "metadata": {
        "id": "3ee4KySvtxDb"
      },
      "source": [
        "# create a bounding box that defines the study area\n",
        "geom = addGeometry(-95, -85,30,40) # min long, max long, min lat, max lat\n",
        "\n",
        "# define dates of interest (inclusive).\n",
        "start = '2020-04-01'\n",
        "end = '2021-04-01' #can go up to april 2021\n",
        "\n",
        "# now get gpm precipitation over the same region for a specified time period\n",
        "gpm_img = get_gpm_image(start,end,geom)\n",
        "\n",
        "# now get MOD16 ET data over the same time period/region\n",
        "et_img = get_mod16ET(start,end,geom)\n",
        "\n",
        "pet_img = get_mod16PET(start,end,geom)\n",
        "\n",
        "# get PET - ET\n",
        "residual = pet_img.subtract(et_img)"
      ],
      "execution_count": null,
      "outputs": []
    },
    {
      "cell_type": "markdown",
      "metadata": {
        "id": "G6NTOA9oULq-"
      },
      "source": [
        "Now, we will view the map. Scroll to the top so you can check/uncheck layers. Take a screenshot for your lab report."
      ]
    },
    {
      "cell_type": "code",
      "metadata": {
        "id": "LclSbsmkt4Zq"
      },
      "source": [
        "my_map = folium.Map(location=[35, -90], zoom_start=6)\n",
        "\n",
        "# Add the land cover to the map object.\n",
        "my_map.add_ee_layer(residual,'MOD16 PET - ET')\n",
        "my_map.add_ee_layer(pet_img,'MOD16 PET')\n",
        "my_map.add_ee_layer(et_img,'MOD16 ET')\n",
        "my_map.add_ee_layer(gpm_img,'GPM precip')\n",
        "\n",
        "my_map.add_ee_layer(geom,'bounding box')\n",
        "\n",
        "# Add a layer control panel to the map.\n",
        "my_map.add_child(folium.LayerControl())\n",
        "\n",
        "# Display the map.\n",
        "display(my_map)"
      ],
      "execution_count": null,
      "outputs": []
    },
    {
      "cell_type": "markdown",
      "metadata": {
        "id": "kXgnRXYUYUaH"
      },
      "source": [
        "Like last lab, we will now export the data to your Google Drive. You can view it in rasterio on here, or download it to your computer and view in QGIS."
      ]
    },
    {
      "cell_type": "code",
      "metadata": {
        "id": "Lz83KHaegOPk"
      },
      "source": [
        "export_to_drive(gpm_img,'lab3_gpm_precip','Colab Notebooks',geom) # raster, file name, folder name, geometry to clip it with\n",
        "export_to_drive(et_img,'lab3_mod16_ET','Colab Notebooks',geom)\n",
        "export_to_drive(pet_img,'lab3_moc16_PET','Colab Notebooks',geom)"
      ],
      "execution_count": null,
      "outputs": []
    },
    {
      "cell_type": "markdown",
      "metadata": {
        "id": "t6bkwUQvkNBG"
      },
      "source": [
        "**Part 2**\n",
        "\n",
        "Now re-do this over your study area! "
      ]
    },
    {
      "cell_type": "code",
      "metadata": {
        "id": "hUISF8rokMBB"
      },
      "source": [
        ""
      ],
      "execution_count": null,
      "outputs": []
    }
  ]
}