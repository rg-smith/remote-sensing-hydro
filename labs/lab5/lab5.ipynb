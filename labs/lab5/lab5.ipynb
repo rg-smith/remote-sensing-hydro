{
  "nbformat": 4,
  "nbformat_minor": 0,
  "metadata": {
    "colab": {
      "name": "subsidence_model.ipynb",
      "provenance": [],
      "collapsed_sections": [],
      "authorship_tag": "ABX9TyMCZlR3DmOgURfSj5E1aLYB",
      "include_colab_link": true
    },
    "kernelspec": {
      "name": "python3",
      "display_name": "Python 3"
    },
    "language_info": {
      "name": "python"
    }
  },
  "cells": [
    {
      "cell_type": "markdown",
      "metadata": {
        "id": "view-in-github",
        "colab_type": "text"
      },
      "source": [
        "<a href=\"https://colab.research.google.com/github/rg-smith/remote-sensing-hydro/blob/main/labs/lab5/lab5.ipynb\" target=\"_parent\"><img src=\"https://colab.research.google.com/assets/colab-badge.svg\" alt=\"Open In Colab\"/></a>"
      ]
    },
    {
      "cell_type": "markdown",
      "metadata": {
        "id": "HLc7L4fhYGlN"
      },
      "source": [
        "## Lab 5: Modeling deformation from changes in groundwater levels"
      ]
    },
    {
      "cell_type": "markdown",
      "metadata": {
        "id": "OXnPxG-pbi7_"
      },
      "source": [
        "In this lab, we will explore the relationship between changes in groundwater levels and aquifer deformation. The theory describing this relationship is described in great detail in section 2.1 of this paper: https://agupubs.onlinelibrary.wiley.com/doi/full/10.1002/2016WR019861. Read that section before completing this lab.\n",
        "\n",
        "The general principle is that the stress experienced by sedimentary grains is equal to the pore pressure subtracted from the total overburden stress. When pore pressure decreases (equivalent to a decrease in groundwater level in pressurized aquifers), the effective stress increases. This can cause consolidation of aquifer materials. \n",
        "\n",
        "The amount of deformation that occurs is described simply with the following:\n",
        "\n",
        "$\\Delta$$b$=$\\Delta$$h$$S_{sk}$$b_0$\n",
        "\n",
        "Where $\\Delta$$b$ is the deformation, $\\Delta$$h$ is the change in groundwater level (head), $S_{sk}$ is the skeletal specific storage, and $b_0$ is the thickness of the material that is compacting.\n",
        "\n",
        "Thus, if we know the change in head at any location in an aquifer, and the constant $S_{sk}$ relating the change in head to deformation, we can fairly simply calculate the deformation. There are two main challenges with implementing this. The first is that we *don't* know the change in head everywhere in the aquifer. In particular, clay layers within an aquifer or adjacent to it are the most compressible and thus have the largest deformation signal. These layers can experience significant changes in head, but it has a delayed response to the change in head experienced in an aquifer. We can model this using Equation 10 from the above referenced paper.\n",
        "\n",
        "The other main challenge is that $S_{sk}$ is not constant with time. This parameter changes when inelastic deformation occurs. This happens when the head drops below the lowest head that has been previously experienced. This value can be challenging to estimate unless we have a long time series of head at a well, and can also accurately model the change in head in less permeable clay layers. \n",
        "\n",
        "The code implemented below will work reasonably well for simulating deformation with *known* aquifer head if the head record is sufficiently long."
      ]
    },
    {
      "cell_type": "markdown",
      "metadata": {
        "id": "S34kXYt8hfvE"
      },
      "source": [
        "First, we will import the necessary functions"
      ]
    },
    {
      "cell_type": "code",
      "metadata": {
        "id": "Lm8KcHsMVhGQ"
      },
      "source": [
        "import numpy as np\n",
        "import matplotlib.pyplot as plt"
      ],
      "execution_count": 1,
      "outputs": []
    },
    {
      "cell_type": "markdown",
      "metadata": {
        "id": "1kUeJcLQhjdF"
      },
      "source": [
        "Now we will define a function. This is the deformation model. It takes as input an array with the time, another array of the same length with the head in the aquifer, vertical hydraulic conductivity (Kv), the skeletal specific storage during inelastic deformation (Sskv), during elastic deformation (Sske), the thickness of the clay layer being simulated, and the number of clay layers with that thickness being simulated.\n"
      ]
    },
    {
      "cell_type": "code",
      "metadata": {
        "id": "fZDph1YsVFDv"
      },
      "source": [
        "def calc_deformation(time,head,Kv,Sskv,Sske,claythick,nclay,sandthick=-1,Nt_const=70): # this calculates deformation for a single clay layer of user=defined thickness\n",
        "    # Use whatever units for time and length as desired, but they need to stay consistent\n",
        "    # time - a vector of same lenght as head with the times that head measurements are taken. Numeric (years or days, typically)\n",
        "    # head - a vector of same length as time with head measurements.\n",
        "    # Kv - vertical hydraulic conductivity\n",
        "    # Sske - Skeletal specific storage (elastic)\n",
        "    # Sskv - skeletalt specific storage (inelastic)\n",
        "    # clay_thick - thickness of single clay layer modeled\n",
        "    # nclay - number of clay layers\n",
        "    # sandthick - total thickness of sand. If negative, assume that sand thickness = clay thickness\n",
        "    # t - vector containing the time at each time step. Needs to be sampled very dense. A dt of around 0.1 days usually is sufficient\n",
        "    # Nz - number of layers in z direction, within the single clay layer modeled. Higher Nz requires higher dt, and vice versa\n",
        "\n",
        "    # outputs are interpolated time, total surface deformation, interpolated head, and inelastic surface deformation\n",
        "\n",
        "    Sske_sand_mult=0.5 # assuem sand sske \n",
        "    Sske_sand=Sske*Sske_sand_mult\n",
        "    if sandthick<0:\n",
        "        sand_thick=nclay*claythick\n",
        "    else:\n",
        "        sand_thick=sandthick\n",
        "    Ske_sand=Sske_sand*sand_thick\n",
        "    \n",
        "    D=Kv/Sske\n",
        "    num_yrs=time[-1]-time[0]\n",
        "    Nz=5 # discretization of clay layer. Higher discretization in z requires higher discretization in time (longer simulation)\n",
        "    \n",
        "    clay_thick=claythick/2 # simulate doubly draining clay\n",
        "    z = np.linspace(0, clay_thick, Nz+2)    # mesh points in space\n",
        "    dz = clay_thick/Nz\n",
        "    dz_full=np.ones(np.shape(z))*dz;dz_full[0]=dz/2;dz_full[-1]=dz/2\n",
        "    tau=np.square(claythick/2)*Sske/Kv\n",
        "    \n",
        "    if tau<.1: # assume instantaneous equilibration of clay if tau <.1\n",
        "        D=Kv/Sskv\n",
        "        Nt=int(num_yrs*24+D*Nt_const) # set optimum number of time steps based on diffusivity. Minimum number is 4 per year\n",
        "        t=np.linspace(time[0],time[-1],int(Nt+1))\n",
        "\n",
        "        boundary=np.interp(t,time,head)\n",
        "\n",
        "        dt = t[1] - t[0]\n",
        "        h = boundary[0]*np.ones((Nz+2,Nt+1))  \n",
        "        h[0,:]=boundary\n",
        "        \n",
        "        precons_head=h[:,0].copy()\n",
        "    \n",
        "        deformation=np.zeros(np.shape(h))\n",
        "        deformation_v=np.zeros(np.shape(h))\n",
        "        \n",
        "        for n in range(0, Nt):\n",
        "            # Compute u at inner mesh points\n",
        "            for i in range(1, Nz+1):\n",
        "                dz1=dz/(int(i==1)+1)\n",
        "                dz2=dz\n",
        "                dz_all=np.mean([dz1,dz2])\n",
        "                h_new = h[0,n+1]\n",
        "                dh=(h_new-h[i,n])\n",
        "                defm=dh*Sske*dz*2\n",
        "                deformation_v[i,n+1]=deformation_v[i,n]\n",
        "                if np.logical_and(h_new<precons_head[i],dh<0): # if head drops below preconsolidation head, then Ss changes to Sskv\n",
        "                    h_new = h[i,n] + ((Kv/Sskv)*dt/dz_all)*((h[i-1,n] - h[i,n])/dz1+( - h[i,n] + h[i+1,n])/dz2)\n",
        "                    precons_head[i]=h_new\n",
        "                    dh=(h_new-h[i,n])\n",
        "                    defm=dh*Sskv*dz*2\n",
        "                    deformation_v[i,n+1]=defm+np.min(deformation_v[i,0:(n+1)])\n",
        "                h[i,n+1]=h_new\n",
        "                deformation[i,n+1]=defm+deformation[i,n]\n",
        "            h[-1,n+1]=h_new\n",
        "    else:    \n",
        "        Nt=int(num_yrs*24+D*Nt_const) # set optimum number of time steps based on diffusivity. Minimum number is 4 per year\n",
        "\n",
        "        t=np.linspace(time[0],time[-1],int(Nt+1))\n",
        "\n",
        "        boundary=np.interp(t,time,head)\n",
        "\n",
        "        dt = t[1] - t[0]\n",
        "        h = boundary[0]*np.ones((Nz+2,Nt+1))  \n",
        "        h[0,:]=boundary\n",
        "        \n",
        "        precons_head=h[:,0].copy()\n",
        "    \n",
        "        deformation=np.zeros(np.shape(h))\n",
        "        deformation_v=np.zeros(np.shape(h))\n",
        "        \n",
        "        for n in range(0, Nt):\n",
        "            # Compute u at inner mesh points\n",
        "            for i in range(1, Nz+1):\n",
        "                dz1=dz/(int(i==1)+1)\n",
        "                dz2=dz\n",
        "                dz_all=np.mean([dz1,dz2])\n",
        "                h_new = h[i,n] + ((Kv/Sske)*dt/dz_all)*((h[i-1,n] - h[i,n])/dz1+( - h[i,n] + h[i+1,n])/dz2)\n",
        "                dh=(h_new-h[i,n])\n",
        "                defm=dh*Sske*dz*2\n",
        "                deformation_v[i,n+1]=deformation_v[i,n]\n",
        "                if np.logical_and(h_new<precons_head[i],dh<0): # if head drops below preconsolidation head, then Ss changes to Sskv\n",
        "                    h_new = h[i,n] + ((Kv/Sskv)*dt/dz_all)*((h[i-1,n] - h[i,n])/dz1+( - h[i,n] + h[i+1,n])/dz2)\n",
        "                    precons_head[i]=h_new\n",
        "                    dh=(h_new-h[i,n])\n",
        "                    defm=dh*Sskv*dz*2\n",
        "                    deformation_v[i,n+1]=defm+np.min(deformation_v[i,0:(n+1)])\n",
        "                h[i,n+1]=h_new\n",
        "                deformation[i,n+1]=defm+deformation[i,n]\n",
        "            h[-1,n+1]=h_new\n",
        "    deformation=np.sum(deformation,axis=0)*nclay\n",
        "    deformation_v=np.sum(deformation_v,axis=0)*nclay\n",
        "    boundary0=boundary-boundary[0]\n",
        "    deformation=deformation+boundary0*Ske_sand\n",
        "    return(t,deformation,boundary,deformation_v)"
      ],
      "execution_count": 2,
      "outputs": []
    },
    {
      "cell_type": "markdown",
      "metadata": {
        "id": "0w0k8rc0h52R"
      },
      "source": [
        "Now we will make some synthetic (read: fake) head data and simulate deformation with it. First, the synthetic data:"
      ]
    },
    {
      "cell_type": "code",
      "metadata": {
        "id": "4EEKOEPrWTdX"
      },
      "source": [
        "# Example problem\n",
        "# Generate synthetic head data with seasonal trend\n",
        "t=np.linspace(2000,2020,1000)\n",
        "head=(t-t[0])*-1+5*np.cos(np.pi*2*t)\n",
        "\n",
        "plt.figure();plt.subplot(2,1,1)\n",
        "plt.plot(t,head);plt.ylabel('head, m')"
      ],
      "execution_count": null,
      "outputs": []
    },
    {
      "cell_type": "markdown",
      "metadata": {
        "id": "XxautRK2iDwi"
      },
      "source": [
        "Now we'll define the necessary input parameters, run a simulation and plot the results. Take a few minutes here to try changing different values (Kv, Sskv, Sske, nclay and claythick) to see what effect they have on the modeled output. What do you notice about the difference between Sskv and Sske? What would happen if they were equal to each other or very similar? Also comment on the difference between inelastic and elastic deformation.\n",
        "\n",
        "Take a few screenshots with the parameters included of at least five different simulations and comment on how different parameters affect the overall output."
      ]
    },
    {
      "cell_type": "code",
      "metadata": {
        "id": "eqb-3DHjiFrh"
      },
      "source": [
        "Kv=5E-5 # m/yr\n",
        "Sskv=1E-3 #m-1\n",
        "Sske=1E-5 #m-1\n",
        "nclay=10\n",
        "claythick=10 # m\n",
        "\n",
        "# run simulation\n",
        "t,defm,head,defm_v=calc_deformation(t,head,Kv,Sskv,Sske,claythick,nclay)\n",
        "\n",
        "# plot results\n",
        "plt.subplot(2,1,2);plt.plot(t,defm);\n",
        "plt.ylabel('deformation, m')\n",
        "plt.xlabel('time, yr')\n",
        "\n",
        "plt.figure();plt.plot(t,defm_v);plt.plot(t,defm-defm_v);\n",
        "plt.legend(['inelastic deformation','elastic deformation'])\n",
        "plt.ylabel('deformation, m')\n",
        "plt.xlabel('time, yr')"
      ],
      "execution_count": null,
      "outputs": []
    },
    {
      "cell_type": "markdown",
      "metadata": {
        "id": "s7rpeg8Lilxt"
      },
      "source": [
        "Now we will make some synthetic InSAR data. We are basically taking the deformation data, then adding some noise to give a realistic idea of what InSAR data might look like if it was collected over this area."
      ]
    },
    {
      "cell_type": "code",
      "metadata": {
        "id": "NuOu1s7gWyzX"
      },
      "source": [
        "# sample deformation data to mimic InSAR data\n",
        "InSAR_time=np.linspace(2015,2020,100)\n",
        "InSAR=np.interp(InSAR_time,t,defm)\n",
        "# add noise\n",
        "InSAR=InSAR+np.random.normal(loc=0,scale=0.01,size=InSAR.shape)\n",
        "\n",
        "plt.figure();plt.plot(t,defm);\n",
        "plt.ylabel('deformation, m')\n",
        "plt.xlabel('time, yr')\n",
        "plt.scatter(InSAR_time,InSAR,s=1,c='r')"
      ],
      "execution_count": 25,
      "outputs": []
    },
    {
      "cell_type": "markdown",
      "metadata": {
        "id": "TcSKvVWojAYE"
      },
      "source": [
        "Next we will assume that we have the head record in the aquifer, and the InSAR data, but have no idea what the true aquifer/clay layer properties are. We will run a parameter estimation process that attempts to match the observed InSAR data using our model, tweaking the input parameters until it matches.\n",
        "\n",
        "You'll want to use starting parameters that are within the ballpark of the parameters you selected for your model. Note that we are assuming here that the clay layer thickness is 5 m, and we know that. That's sort of a big assumption, but we're doing it to simplify the problem because solving for this many parameters is quite tricky. So make sure that your model that you ran most recently in the above code has a clay layer thickness of 5 m.\n",
        "\n",
        "This part will probably take a few minutes. You should see a summary every so often popping up with the parameter values and rmse (root mean squared error) of your latest model output. The rmse should be steadily going down."
      ]
    },
    {
      "cell_type": "code",
      "metadata": {
        "id": "aJ5hzSNXXQy6"
      },
      "source": [
        "def calc_residual(x):\n",
        "    time,defm,_,_=calc_deformation(t,head,10**x[0],10**x[1],10**x[2],10,5)\n",
        "    mod_def=np.interp(InSAR_time,time,defm)\n",
        "    residual=mod_def-InSAR\n",
        "    rmse=np.sqrt(np.mean(np.square(residual)))\n",
        "    if np.random.uniform()>0.95: # print results every 20 iterations (roughly)\n",
        "      print('paramters: '+str(x))\n",
        "      print('root mean squared error: '+str(rmse))\n",
        "    return(rmse)"
      ],
      "execution_count": 38,
      "outputs": []
    },
    {
      "cell_type": "code",
      "metadata": {
        "id": "gYn4FZ_vXLxj"
      },
      "source": [
        "# invert to solve for parameters\n",
        "from scipy.optimize import minimize\n",
        "initial_parameters=[-5,-3.5,-5.5] # I use logarithm of Kv, Sskv, Sske for inversion so it's more stable\n",
        "parameters=minimize(calc_residual,initial_parameters,options={'maxiter':3}) # setting the maximum iterations to a low number so it doesn't take forever\n",
        "\n",
        "# simulate with inverted parameter estimates\n",
        "tmod,defm_mod,head_mod,defm_v_mod=calc_deformation(t,head,10**parameters.x[0],\n",
        "                                                   10**parameters.x[1],10**parameters.x[2],\n",
        "                                                   10,5)\n",
        "\n"
      ],
      "execution_count": null,
      "outputs": []
    },
    {
      "cell_type": "markdown",
      "metadata": {
        "id": "GteryvjvmgMC"
      },
      "source": [
        "Now plot your results. Comment on how well your estimated deformation matched the true deformation. Was it a perfect match? Why or why not?"
      ]
    },
    {
      "cell_type": "code",
      "metadata": {
        "id": "9_zpwyOYXyrd"
      },
      "source": [
        "# compare with synthetic 'true' data\n",
        "plt.figure();plt.plot(t,defm);plt.plot(tmod,defm_mod);\n",
        "plt.scatter(InSAR_time,InSAR,s=1,c='r')\n",
        "plt.legend(['true (synthetic) deformation','estimated deformation','InSAR'])"
      ],
      "execution_count": null,
      "outputs": []
    }
  ]
}