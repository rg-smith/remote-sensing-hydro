{
  "nbformat": 4,
  "nbformat_minor": 0,
  "metadata": {
    "jupytext": {
      "cell_metadata_filter": "-all",
      "main_language": "python",
      "notebook_metadata_filter": "-all"
    },
    "colab": {
      "name": "modflow-example.ipynb",
      "provenance": [],
      "collapsed_sections": [
        "7brQc6b6fu78"
      ],
      "include_colab_link": true
    },
    "language_info": {
      "name": "python"
    },
    "kernelspec": {
      "name": "python3",
      "display_name": "Python 3"
    }
  },
  "cells": [
    {
      "cell_type": "markdown",
      "metadata": {
        "id": "view-in-github",
        "colab_type": "text"
      },
      "source": [
        "<a href=\"https://colab.research.google.com/github/rg-smith/remote-sensing-hydro/blob/main/labs/lab7/modflow_example.ipynb\" target=\"_parent\"><img src=\"https://colab.research.google.com/assets/colab-badge.svg\" alt=\"Open In Colab\"/></a>"
      ]
    },
    {
      "cell_type": "markdown",
      "metadata": {
        "id": "GhFTkZKafu7r"
      },
      "source": [
        "## One-dimensional compaction\n",
        "\n",
        "This example was created by Joseph Hughes of the USGS, and was cloned from the USGS' repository for this class. The link to the forked repository is shown below, and will link to the USGS repository.\n",
        "\n",
        "A one-dimensional MODFLOW 6 model was developed by Sneed (2008) to simulate\n",
        "aquitard drainage, compaction and, land subsidence at the Holly site, located at\n",
        "the Edwards Air Force base, in response to effective stress changes caused by\n",
        "groundwater pumpage in the Antelope Valley in southern California.\n"
      ]
    },
    {
      "cell_type": "markdown",
      "metadata": {
        "id": "k0XvNsatPQeg"
      },
      "source": [
        "The following code will clone the github repository with necessary data, then install flopy and modflow. Modflow is the groundwater modeling code, and flopy is the python interface that is used to run modflow models. These lines only need to be run when you are starting a session."
      ]
    },
    {
      "cell_type": "code",
      "metadata": {
        "id": "nTaNKqb5fxNS"
      },
      "source": [
        "!git clone https://github.com/rg-smith/modflow6-examples.git"
      ],
      "execution_count": null,
      "outputs": []
    },
    {
      "cell_type": "code",
      "metadata": {
        "id": "PMm_Ibllf2hg"
      },
      "source": [
        "!pip install flopy"
      ],
      "execution_count": null,
      "outputs": []
    },
    {
      "cell_type": "code",
      "metadata": {
        "id": "u8SOKpBt-0nT"
      },
      "source": [
        "!pip install https://github.com/modflowpy/pymake/zipball/master"
      ],
      "execution_count": null,
      "outputs": []
    },
    {
      "cell_type": "code",
      "metadata": {
        "id": "ZhfXd-Te-4Up"
      },
      "source": [
        "import pymake"
      ],
      "execution_count": 45,
      "outputs": []
    },
    {
      "cell_type": "code",
      "metadata": {
        "id": "-2Pu3NK9-7ca"
      },
      "source": [
        "os.chdir('/content/modflow6-examples/bin')\n",
        "!echo $'import pymake\\npymake.build_apps(\\'mf6\\')' > install.py\n",
        "!python install.py\n",
        "os.chdir('../notebooks/')"
      ],
      "execution_count": null,
      "outputs": []
    },
    {
      "cell_type": "markdown",
      "metadata": {
        "id": "gcZJNSV3fu7w"
      },
      "source": [
        "### Problem Setup\n",
        "\n",
        "Imports"
      ]
    },
    {
      "cell_type": "code",
      "metadata": {
        "id": "ZuBvdCInfu7x"
      },
      "source": [
        "import os\n",
        "import sys\n",
        "import datetime\n",
        "import numpy as np\n",
        "import pandas as pd\n",
        "import matplotlib as mpl\n",
        "import matplotlib.pyplot as plt\n",
        "import flopy"
      ],
      "execution_count": 3,
      "outputs": []
    },
    {
      "cell_type": "markdown",
      "metadata": {
        "id": "6kmeBqPTfu7y"
      },
      "source": [
        "Append to system path to include the common subdirectory"
      ]
    },
    {
      "cell_type": "code",
      "metadata": {
        "id": "-s6Tm-Syfu7y"
      },
      "source": [
        "sys.path.append(os.path.join(\"..\", \"common\"))"
      ],
      "execution_count": 4,
      "outputs": []
    },
    {
      "cell_type": "markdown",
      "metadata": {
        "id": "-RI0ABnzfu7z"
      },
      "source": [
        "import common functionality"
      ]
    },
    {
      "cell_type": "code",
      "metadata": {
        "id": "PPaH_B9Rfu7z"
      },
      "source": [
        "os.chdir('/content/modflow6-examples/common')\n",
        "import config\n",
        "import build_table as bt\n",
        "from figspecs import USGSFigure\n",
        "os.chdir('../notebooks')"
      ],
      "execution_count": 5,
      "outputs": []
    },
    {
      "cell_type": "markdown",
      "metadata": {
        "id": "Y1kbuIxTfu7z"
      },
      "source": [
        "Set figure properties specific to the problem"
      ]
    },
    {
      "cell_type": "code",
      "metadata": {
        "id": "WfYg6Cs0fu70"
      },
      "source": [
        "figure_size = (6.8, 3.4)\n",
        "arrow_props = dict(facecolor=\"black\", arrowstyle=\"-\", lw=0.5)"
      ],
      "execution_count": 6,
      "outputs": []
    },
    {
      "cell_type": "markdown",
      "metadata": {
        "id": "sEVAwHPQfu71"
      },
      "source": [
        "Base simulation and model name and workspace"
      ]
    },
    {
      "cell_type": "code",
      "metadata": {
        "id": "nSVsiB6Mfu71"
      },
      "source": [
        "ws = config.base_ws"
      ],
      "execution_count": 7,
      "outputs": []
    },
    {
      "cell_type": "markdown",
      "metadata": {
        "id": "vzp5BuJ0fu71"
      },
      "source": [
        "Simulation name"
      ]
    },
    {
      "cell_type": "code",
      "metadata": {
        "id": "FZTCemLMfu72"
      },
      "source": [
        "sim_name = \"ex-gwf-csub-p03\""
      ],
      "execution_count": 8,
      "outputs": []
    },
    {
      "cell_type": "markdown",
      "metadata": {
        "id": "Qq1Cjp5Efu72"
      },
      "source": [
        "Load the constant time series"
      ]
    },
    {
      "cell_type": "code",
      "metadata": {
        "id": "NwbQDIOBfu72"
      },
      "source": [
        "pth = os.path.join(\"..\", \"data\", sim_name, \"boundary_heads.csv\")\n",
        "csv_head = np.genfromtxt(pth, names=True, delimiter=\",\")"
      ],
      "execution_count": 9,
      "outputs": []
    },
    {
      "cell_type": "markdown",
      "metadata": {
        "id": "eFpx1LlBfu73"
      },
      "source": [
        "Reformat csv data into format for MODFLOW 6 timeseries file"
      ]
    },
    {
      "cell_type": "code",
      "metadata": {
        "id": "NpyISrScfu73"
      },
      "source": [
        "chd_ts = []\n",
        "for idx in range(csv_head.shape[0]):\n",
        "    chd_ts.append(\n",
        "        (\n",
        "            csv_head[\"time\"][idx],\n",
        "            csv_head[\"CHD_L01\"][idx],\n",
        "            csv_head[\"CHD_L06\"][idx],\n",
        "            csv_head[\"CHD_L13\"][idx],\n",
        "        )\n",
        "    )"
      ],
      "execution_count": 10,
      "outputs": []
    },
    {
      "cell_type": "markdown",
      "metadata": {
        "id": "QNAbsliKfu73"
      },
      "source": [
        "Simulation starting date and time"
      ]
    },
    {
      "cell_type": "code",
      "metadata": {
        "id": "4y2bth5Nfu74"
      },
      "source": [
        "dstart = datetime.datetime(1907, 1, 1, 0, 0, 0)"
      ],
      "execution_count": 11,
      "outputs": []
    },
    {
      "cell_type": "markdown",
      "metadata": {
        "id": "tyuOzUJJfu74"
      },
      "source": [
        "Create a datetime list for the simulation"
      ]
    },
    {
      "cell_type": "code",
      "metadata": {
        "lines_to_next_cell": 2,
        "id": "DvsA4HGyfu74"
      },
      "source": [
        "date_list = [dstart + datetime.timedelta(days=x) for x in csv_head[\"time\"]]"
      ],
      "execution_count": 12,
      "outputs": []
    },
    {
      "cell_type": "markdown",
      "metadata": {
        "id": "Qc_fzz2hfu74"
      },
      "source": [
        "Scenario parameters"
      ]
    },
    {
      "cell_type": "code",
      "metadata": {
        "id": "l9Hwa-nDfu75"
      },
      "source": [
        "parameters = {\n",
        "    \"ex-gwf-csub-p03a\": {\n",
        "        \"head_based\": True,\n",
        "        \"cg_ske\": (\n",
        "            0.00e0,\n",
        "            0.00e0,\n",
        "            0.00e0,\n",
        "            0.00e0,\n",
        "            5.42e-6,\n",
        "            0.00e0,\n",
        "            5.42e-6,\n",
        "            0.00e0,\n",
        "            0.00e0,\n",
        "            0.00e0,\n",
        "            0.00e0,\n",
        "            5.42e-6,\n",
        "            0.00e0,\n",
        "            5.42e-6,\n",
        "        ),\n",
        "        \"pcs0\": (\n",
        "            -4.91,\n",
        "            -5.33,\n",
        "            -5.76,\n",
        "            -6.10,\n",
        "            -6.10,\n",
        "            -6.10,\n",
        "            -6.10,\n",
        "            -6.10,\n",
        "            -6.71,\n",
        "            -6.71,\n",
        "            -6.10,\n",
        "            -6.10,\n",
        "            -6.71,\n",
        "        ),\n",
        "        \"ssv\": (\n",
        "            6.6955e-4,\n",
        "            6.6955e-4,\n",
        "            6.6955e-4,\n",
        "            1.2753e-4,\n",
        "            1.2753e-4,\n",
        "            1.2116e-3,\n",
        "            1.2116e-3,\n",
        "            1.2116e-3,\n",
        "            1.2753e-4,\n",
        "            1.2753e-4,\n",
        "            4.7825e-4,\n",
        "            4.7825e-4,\n",
        "            4.7825e-4,\n",
        "        ),\n",
        "        \"sse\": (\n",
        "            5.4202e-6,\n",
        "            5.4202e-6,\n",
        "            5.4202e-6,\n",
        "            5.4202e-6,\n",
        "            5.4202e-6,\n",
        "            5.4202e-6,\n",
        "            5.4202e-6,\n",
        "            5.4202e-6,\n",
        "            5.4202e-6,\n",
        "            5.4202e-6,\n",
        "            5.4202e-6,\n",
        "            5.4202e-6,\n",
        "            5.4202e-6,\n",
        "        ),\n",
        "    },\n",
        "    \"ex-gwf-csub-p03b\": {\n",
        "        \"head_based\": False,\n",
        "        \"cg_ske\": (\n",
        "            0.00e0,\n",
        "            0.00e0,\n",
        "            0.00e0,\n",
        "            0.00e0,\n",
        "            6.88e-6,\n",
        "            0.00e0,\n",
        "            6.88e-6,\n",
        "            0.00e0,\n",
        "            0.00e0,\n",
        "            0.00e0,\n",
        "            0.00e0,\n",
        "            6.88e-6,\n",
        "            0.00e0,\n",
        "            6.88e-6,\n",
        "        ),\n",
        "        \"pcs0\": (\n",
        "            47.27,\n",
        "            55.93,\n",
        "            62.76,\n",
        "            75.90,\n",
        "            98.15,\n",
        "            103.33,\n",
        "            111.86,\n",
        "            117.35,\n",
        "            285.60,\n",
        "            339.25,\n",
        "            75.90,\n",
        "            285.60,\n",
        "            339.25,\n",
        "        ),\n",
        "        \"ssv\": (\n",
        "            1.3542e-3,\n",
        "            1.3542e-3,\n",
        "            1.3542e-3,\n",
        "            2.6912e-4,\n",
        "            2.7107e-4,\n",
        "            1.9249e-3,\n",
        "            1.9249e-3,\n",
        "            1.9249e-3,\n",
        "            1.4632e-4,\n",
        "            2.1655e-4,\n",
        "            2.2717e-4,\n",
        "            4.8671e-4,\n",
        "            1.0170e-3,\n",
        "        ),\n",
        "        \"sse\": (\n",
        "            8.5697e-6,\n",
        "            8.5697e-6,\n",
        "            8.5697e-6,\n",
        "            1.2559e-5,\n",
        "            1.1538e-5,\n",
        "            3.4235e-5,\n",
        "            3.4235e-5,\n",
        "            3.4235e-5,\n",
        "            6.3990e-6,\n",
        "            9.2419e-6,\n",
        "            1.0292e-5,\n",
        "            7.5887e-6,\n",
        "            6.8638e-6,\n",
        "        ),\n",
        "    },\n",
        "}"
      ],
      "execution_count": 13,
      "outputs": []
    },
    {
      "cell_type": "markdown",
      "metadata": {
        "id": "yd0mjFfUfu76"
      },
      "source": [
        "Model units"
      ]
    },
    {
      "cell_type": "code",
      "metadata": {
        "id": "3id98yQ9fu76"
      },
      "source": [
        "length_units = \"meters\"\n",
        "time_units = \"days\""
      ],
      "execution_count": 14,
      "outputs": []
    },
    {
      "cell_type": "markdown",
      "metadata": {
        "id": "GF14mK2Yfu76"
      },
      "source": [
        "Model parameters"
      ]
    },
    {
      "cell_type": "code",
      "metadata": {
        "id": "-K951Vfzfu76"
      },
      "source": [
        "nper = 353\n",
        "nlay = 14\n",
        "ncol = 1\n",
        "nrow = 1\n",
        "delr = 1.0\n",
        "delc = 1.0\n",
        "top = 0.0\n",
        "botm = (\n",
        "    -36.8811,\n",
        "    -42.3676,\n",
        "    -50.5973,\n",
        "    -56.9981,\n",
        "    -69.7998,\n",
        "    -70.1046,\n",
        "    -92.0504,\n",
        "    -97.2321,\n",
        "    -105.7666,\n",
        "    -111.2530,\n",
        "    -111.5578,\n",
        "    -278.8945,\n",
        "    -279.1993,\n",
        "    -332.5398,\n",
        ")\n",
        "strt = (\n",
        "    0.00,\n",
        "    1.57,\n",
        "    3.38,\n",
        "    5.56,\n",
        "    6.77,\n",
        "    6.77,\n",
        "    6.77,\n",
        "    6.77,\n",
        "    6.77,\n",
        "    6.77,\n",
        "    6.77,\n",
        "    6.77,\n",
        "    5.55,\n",
        "    5.55,\n",
        ")\n",
        "icelltype = 0\n",
        "k33 = (\n",
        "    9.14e-3,\n",
        "    3.66e-6,\n",
        "    3.66e-6,\n",
        "    3.66e-6,\n",
        "    9.14e-3,\n",
        "    9.14e-3,\n",
        "    9.14e-3,\n",
        "    4.57e-6,\n",
        "    4.57e-6,\n",
        "    4.57e-6,\n",
        "    9.14e-3,\n",
        "    9.14e-3,\n",
        "    9.14e-3,\n",
        "    9.14e-3,\n",
        ")\n",
        "iconvert = (\n",
        "    1,\n",
        "    0,\n",
        "    0,\n",
        "    0,\n",
        "    0,\n",
        "    0,\n",
        "    0,\n",
        "    0,\n",
        "    0,\n",
        "    0,\n",
        "    0,\n",
        "    0,\n",
        "    0,\n",
        "    0,\n",
        ")\n",
        "sgm = 1.7\n",
        "sgs = 2.0\n",
        "cg_theta = 0.3\n",
        "ib_cellid = (\n",
        "    (1, 0, 0),\n",
        "    (2, 0, 0),\n",
        "    (3, 0, 0),\n",
        "    (4, 0, 0),\n",
        "    (6, 0, 0),\n",
        "    (7, 0, 0),\n",
        "    (8, 0, 0),\n",
        "    (9, 0, 0),\n",
        "    (11, 0, 0),\n",
        "    (13, 0, 0),\n",
        "    (4, 0, 0),\n",
        "    (11, 0, 0),\n",
        "    (13, 0, 0),\n",
        ")\n",
        "ib_ctype = (\n",
        "    \"nodelay\",\n",
        "    \"nodelay\",\n",
        "    \"nodelay\",\n",
        "    \"nodelay\",\n",
        "    \"nodelay\",\n",
        "    \"nodelay\",\n",
        "    \"nodelay\",\n",
        "    \"nodelay\",\n",
        "    \"nodelay\",\n",
        "    \"nodelay\",\n",
        "    \"delay\",\n",
        "    \"delay\",\n",
        "    \"delay\",\n",
        ")\n",
        "ib_thickness = (\n",
        "    5.48649,\n",
        "    8.22969,\n",
        "    6.4008,\n",
        "    2.7432,\n",
        "    0.6096,\n",
        "    5.1817,\n",
        "    8.53449,\n",
        "    5.4864,\n",
        "    7.6201,\n",
        "    0.9144,\n",
        "    2.7432,\n",
        "    3.0480,\n",
        "    2.7432,\n",
        ")\n",
        "ib_rnb = (\n",
        "    1.0,\n",
        "    1.0,\n",
        "    1.0,\n",
        "    1.0,\n",
        "    1.0,\n",
        "    1.0,\n",
        "    1.0,\n",
        "    1.0,\n",
        "    1.0,\n",
        "    1.0,\n",
        "    1.92,\n",
        "    1.66,\n",
        "    2.85,\n",
        ")\n",
        "ib_theta = 0.30\n",
        "ib_kv = (\n",
        "    999.0,\n",
        "    999.0,\n",
        "    999.0,\n",
        "    999.0,\n",
        "    999.0,\n",
        "    999.0,\n",
        "    999.0,\n",
        "    999.0,\n",
        "    999.0,\n",
        "    999.0,\n",
        "    4.57e-6,\n",
        "    4.57e-6,\n",
        "    4.57e-6,\n",
        ")\n",
        "ib_head = (\n",
        "    999.0,\n",
        "    999.0,\n",
        "    999.0,\n",
        "    999.0,\n",
        "    999.0,\n",
        "    999.0,\n",
        "    999.0,\n",
        "    999.0,\n",
        "    999.0,\n",
        "    999.0,\n",
        "    6.77,\n",
        "    6.77,\n",
        "    5.55,\n",
        ")\n",
        "ib_name = (\n",
        "    \"CUNIT\",\n",
        "    \"CUNIT\",\n",
        "    \"CUNIT\",\n",
        "    \"NODELAY\",\n",
        "    \"NODELAY\",\n",
        "    \"AQUITARD\",\n",
        "    \"AQUITARD\",\n",
        "    \"AQUITARD\",\n",
        "    \"NODELAY\",\n",
        "    \"NODELAY\",\n",
        "    \"DELAY\",\n",
        "    \"DELAY\",\n",
        "    \"DELAY\",\n",
        ")"
      ],
      "execution_count": 15,
      "outputs": []
    },
    {
      "cell_type": "markdown",
      "metadata": {
        "id": "MGnQ68sofu77"
      },
      "source": [
        "Static temporal data used by TDIS file"
      ]
    },
    {
      "cell_type": "code",
      "metadata": {
        "id": "cv88gq2-fu77"
      },
      "source": [
        "tdis_ds = []\n",
        "for idx in range(82):\n",
        "    tdis_ds.append((365.25, 12, 1.0))\n",
        "for idx in range(82, nper):\n",
        "    tdis_ds.append((22.0, 22, 1.0))"
      ],
      "execution_count": 16,
      "outputs": []
    },
    {
      "cell_type": "markdown",
      "metadata": {
        "id": "-6ers_pVfu77"
      },
      "source": [
        "Constant head cells"
      ]
    },
    {
      "cell_type": "code",
      "metadata": {
        "id": "KgVpjF8pfu77"
      },
      "source": [
        "c6 = []\n",
        "for k, tag in zip(\n",
        "    (\n",
        "        0,\n",
        "        5,\n",
        "        10,\n",
        "        12,\n",
        "    ),\n",
        "    (\"upper\", \"middle\", \"middle\", \"lower\"),\n",
        "):\n",
        "    c6.append([k, 0, 0, tag])"
      ],
      "execution_count": 17,
      "outputs": []
    },
    {
      "cell_type": "markdown",
      "metadata": {
        "id": "1KEiOiDifu77"
      },
      "source": [
        "Solver parameters"
      ]
    },
    {
      "cell_type": "code",
      "metadata": {
        "id": "cCZCRH6kfu78"
      },
      "source": [
        "nouter = 200\n",
        "ninner = 100\n",
        "hclose = 1e-6\n",
        "rclose = 1e-3\n",
        "linaccel = \"cg\"\n",
        "relax = 0.97"
      ],
      "execution_count": 18,
      "outputs": []
    },
    {
      "cell_type": "markdown",
      "metadata": {
        "id": "vknpWS54fu78"
      },
      "source": [
        "Create data for plotting"
      ]
    },
    {
      "cell_type": "code",
      "metadata": {
        "id": "9PnLknoEfu78"
      },
      "source": [
        "xticks = (1907, 1917, 1927, 1937, 1947, 1957, 1967, 1977, 1987, 1997, 2007)\n",
        "s = (\n",
        "    \"01-01-1907\",\n",
        "    \"01-01-1917\",\n",
        "    \"01-01-1927\",\n",
        "    \"01-01-1937\",\n",
        "    \"01-01-1947\",\n",
        "    \"01-01-1957\",\n",
        "    \"01-01-1967\",\n",
        "    \"01-01-1977\",\n",
        "    \"01-01-1987\",\n",
        "    \"01-01-1997\",\n",
        "    \"01-01-2007\",\n",
        ")"
      ],
      "execution_count": 19,
      "outputs": []
    },
    {
      "cell_type": "code",
      "metadata": {
        "id": "YoqDqeB2fu78"
      },
      "source": [
        "df_xticks = [datetime.datetime.strptime(ss, \"%m-%d-%Y\").date() for ss in s]\n",
        "df_xticks1 = [\n",
        "    datetime.datetime.strptime(\"{:04d}-01-01\".format(yr), \"%Y-%m-%d\").date()\n",
        "    for yr in range(1990, 2007)\n",
        "]"
      ],
      "execution_count": 20,
      "outputs": []
    },
    {
      "cell_type": "code",
      "metadata": {
        "id": "nWJtH-Sjfu78"
      },
      "source": [
        "pcomp = (\n",
        "    \"TOTAL\",\n",
        "    \"AQUITARD\",\n",
        "    \"DELAY\",\n",
        "    \"CUNIT\",\n",
        "    \"NODELAY\",\n",
        "    \"SKELETAL\",\n",
        ")\n",
        "clabels = (\n",
        "    \"Total compaction\",\n",
        "    \"Thick aquitard compaction\",\n",
        "    \"Delay interbed compaction\",\n",
        "    \"Confining unit compaction\",\n",
        "    \"No-delay interbed compaction\",\n",
        "    \"Elastic coarse-grained material compaction\",\n",
        ")\n",
        "llabels = (0, 1, 2, 3, 4, 5, 6, 7, 8, 9, 10, 11, 12, 13)"
      ],
      "execution_count": 21,
      "outputs": []
    },
    {
      "cell_type": "code",
      "metadata": {
        "lines_to_next_cell": 2,
        "id": "HTQqqwqNfu78"
      },
      "source": [
        "zelevs = [top]\n",
        "edges = [(0, 0)]\n",
        "for z in botm:\n",
        "    zelevs.append(z)\n",
        "    edges.append((-z, -z))"
      ],
      "execution_count": 22,
      "outputs": []
    },
    {
      "cell_type": "markdown",
      "metadata": {
        "lines_to_next_cell": 2,
        "id": "7brQc6b6fu78"
      },
      "source": [
        "### Functions to build, write, run, and plot the model\n",
        "\n",
        "MODFLOW 6 flopy simulation object (sim) is returned if building the model"
      ]
    },
    {
      "cell_type": "code",
      "metadata": {
        "lines_to_next_cell": 2,
        "id": "Mnzp43Y0fu79"
      },
      "source": [
        "def build_model(\n",
        "    name,\n",
        "    subdir_name=\".\",\n",
        "    head_based=True,\n",
        "    cg_ske=1e-3,\n",
        "    pcs0=0.0,\n",
        "    ssv=1e-1,\n",
        "    sse=1e-3,\n",
        "):\n",
        "    if config.buildModel:\n",
        "        sim_ws = os.path.join(ws, name)\n",
        "        if subdir_name is not None:\n",
        "            sim_ws = os.path.join(sim_ws, subdir_name)\n",
        "        sim = flopy.mf6.MFSimulation(\n",
        "            sim_name=name, sim_ws=sim_ws, exe_name=config.mf6_exe\n",
        "        )\n",
        "        flopy.mf6.ModflowTdis(\n",
        "            sim, nper=nper, perioddata=tdis_ds, time_units=time_units\n",
        "        )\n",
        "        flopy.mf6.ModflowIms(\n",
        "            sim,\n",
        "            print_option=\"summary\",\n",
        "            outer_maximum=nouter,\n",
        "            outer_dvclose=hclose,\n",
        "            linear_acceleration=linaccel,\n",
        "            inner_maximum=ninner,\n",
        "            inner_dvclose=hclose,\n",
        "            relaxation_factor=relax,\n",
        "            rcloserecord=\"{} strict\".format(rclose),\n",
        "        )\n",
        "        gwf = flopy.mf6.ModflowGwf(\n",
        "            sim,\n",
        "            modelname=name,\n",
        "            save_flows=True,\n",
        "        )\n",
        "        flopy.mf6.ModflowGwfdis(\n",
        "            gwf,\n",
        "            length_units=length_units,\n",
        "            nlay=nlay,\n",
        "            nrow=nrow,\n",
        "            ncol=ncol,\n",
        "            delr=delr,\n",
        "            delc=delc,\n",
        "            top=top,\n",
        "            botm=botm,\n",
        "        )\n",
        "        # gwf obs\n",
        "        opth = \"{}.gwf.obs\".format(name)\n",
        "        cpth = opth + \".csv\"\n",
        "        obs_array = []\n",
        "        for k in range(nlay):\n",
        "            obs_array.append(\n",
        "                [\n",
        "                    \"HD{:02d}\".format(k + 1),\n",
        "                    \"HEAD\",\n",
        "                    (k, 0, 0),\n",
        "                ]\n",
        "            )\n",
        "        flopy.mf6.ModflowUtlobs(\n",
        "            gwf,\n",
        "            digits=10,\n",
        "            print_input=True,\n",
        "            filename=opth,\n",
        "            continuous={cpth: obs_array},\n",
        "        )\n",
        "\n",
        "        flopy.mf6.ModflowGwfic(gwf, strt=strt)\n",
        "        flopy.mf6.ModflowGwfnpf(\n",
        "            gwf,\n",
        "            icelltype=icelltype,\n",
        "            k=k33,\n",
        "            k33=k33,\n",
        "            save_specific_discharge=True,\n",
        "        )\n",
        "        flopy.mf6.ModflowGwfsto(\n",
        "            gwf, iconvert=iconvert, ss=0.0, sy=0, transient={0: True}\n",
        "        )\n",
        "        if head_based:\n",
        "            hb_bool = True\n",
        "            tsgm = None\n",
        "            tsgs = None\n",
        "        else:\n",
        "            hb_bool = None\n",
        "            tsgm = sgm\n",
        "            tsgs = sgs\n",
        "        sub6 = []\n",
        "        for idx, cdelay in enumerate(ib_ctype):\n",
        "            sub6.append(\n",
        "                [\n",
        "                    idx,\n",
        "                    ib_cellid[idx],\n",
        "                    cdelay,\n",
        "                    pcs0[idx],\n",
        "                    ib_thickness[idx],\n",
        "                    ib_rnb[idx],\n",
        "                    ssv[idx],\n",
        "                    sse[idx],\n",
        "                    ib_theta,\n",
        "                    ib_kv[idx],\n",
        "                    ib_head[idx],\n",
        "                    ib_name[idx],\n",
        "                ]\n",
        "            )\n",
        "        csub = flopy.mf6.ModflowGwfcsub(\n",
        "            gwf,\n",
        "            print_input=True,\n",
        "            save_flows=True,\n",
        "            head_based=hb_bool,\n",
        "            specified_initial_interbed_state=True,\n",
        "            update_material_properties=True,\n",
        "            ndelaycells=39,\n",
        "            boundnames=True,\n",
        "            beta=4.65120000e-10,\n",
        "            gammaw=9806.65,\n",
        "            ninterbeds=len(sub6),\n",
        "            sgm=tsgm,\n",
        "            sgs=tsgs,\n",
        "            cg_theta=cg_theta,\n",
        "            cg_ske_cr=cg_ske,\n",
        "            packagedata=sub6,\n",
        "        )\n",
        "        opth = \"{}.csub.obs\".format(name)\n",
        "        csub_csv = opth + \".csv\"\n",
        "        obs = [\n",
        "            (\"cunit\", \"interbed-compaction\", \"cunit\"),\n",
        "            (\"aquitard\", \"interbed-compaction\", \"aquitard\"),\n",
        "            (\"nodelay\", \"interbed-compaction\", \"nodelay\"),\n",
        "            (\"delay\", \"interbed-compaction\", \"delay\"),\n",
        "            (\"es14\", \"estress-cell\", (nlay - 1, 0, 0)),\n",
        "        ]\n",
        "        for k in (1, 2, 3, 4, 6, 7, 8, 9, 11, 13):\n",
        "            tag = \"tc{:02d}\".format(k + 1)\n",
        "            obs.append(\n",
        "                (\n",
        "                    tag,\n",
        "                    \"compaction-cell\",\n",
        "                    (k, 0, 0),\n",
        "                )\n",
        "            )\n",
        "            tag = \"skc{:02d}\".format(k + 1)\n",
        "            obs.append(\n",
        "                (\n",
        "                    tag,\n",
        "                    \"coarse-compaction\",\n",
        "                    (k, 0, 0),\n",
        "                )\n",
        "            )\n",
        "        orecarray = {csub_csv: obs}\n",
        "        csub.obs.initialize(\n",
        "            filename=opth, digits=10, print_input=True, continuous=orecarray\n",
        "        )\n",
        "\n",
        "        chd = flopy.mf6.ModflowGwfchd(gwf, stress_period_data={0: c6})\n",
        "\n",
        "        # initialize chd time series\n",
        "        csubnam = \"{}.head.ts\".format(sim_name)\n",
        "        chd.ts.initialize(\n",
        "            filename=csubnam,\n",
        "            timeseries=chd_ts,\n",
        "            time_series_namerecord=[\n",
        "                \"upper\",\n",
        "                \"middle\",\n",
        "                \"lower\",\n",
        "            ],\n",
        "            interpolation_methodrecord=[\n",
        "                \"linear\",\n",
        "                \"linear\",\n",
        "                \"linear\",\n",
        "            ],\n",
        "            sfacrecord=[\n",
        "                \"1.0\",\n",
        "                \"1.0\",\n",
        "                \"1.0\",\n",
        "            ],\n",
        "        )\n",
        "\n",
        "        flopy.mf6.ModflowGwfoc(\n",
        "            gwf,\n",
        "            printrecord=[(\"BUDGET\", \"ALL\")],\n",
        "        )\n",
        "        return sim\n",
        "    return None"
      ],
      "execution_count": 24,
      "outputs": []
    },
    {
      "cell_type": "markdown",
      "metadata": {
        "lines_to_next_cell": 2,
        "id": "g1vMyl10fu79"
      },
      "source": [
        "Function to write MODFLOW 6 model files"
      ]
    },
    {
      "cell_type": "code",
      "metadata": {
        "lines_to_next_cell": 2,
        "id": "TAgg46lvfu79"
      },
      "source": [
        "def write_model(sim, silent=True):\n",
        "    if config.writeModel:\n",
        "        sim.write_simulation(silent=silent)"
      ],
      "execution_count": 25,
      "outputs": []
    },
    {
      "cell_type": "markdown",
      "metadata": {
        "lines_to_next_cell": 2,
        "id": "jbp4h6Aufu7-"
      },
      "source": [
        "Function to run the model.\n",
        "True is returned if the model runs successfully\n"
      ]
    },
    {
      "cell_type": "code",
      "metadata": {
        "lines_to_next_cell": 2,
        "id": "uIrfRgmNfu7-"
      },
      "source": [
        "@config.timeit\n",
        "def run_model(sim, silent=True):\n",
        "    success = True\n",
        "    if config.runModel:\n",
        "        success, buff = sim.run_simulation(silent=silent)\n",
        "        if not success:\n",
        "            print(buff)\n",
        "\n",
        "    return success"
      ],
      "execution_count": 26,
      "outputs": []
    },
    {
      "cell_type": "markdown",
      "metadata": {
        "lines_to_next_cell": 2,
        "id": "q52FnIM-fu7-"
      },
      "source": [
        "Function to make summary tables"
      ]
    },
    {
      "cell_type": "code",
      "metadata": {
        "lines_to_next_cell": 2,
        "id": "uub-I6E9fu7_"
      },
      "source": [
        "def export_tables(silent=True):\n",
        "    if config.plotSave:\n",
        "        name = list(parameters.keys())[1]\n",
        "\n",
        "        caption = \"Aquifer properties for example {}.\".format(sim_name)\n",
        "        headings = (\n",
        "            \"Layer\",\n",
        "            \"Thickness\",\n",
        "            \"Hydraulic conductivity\",\n",
        "            \"Initial head\",\n",
        "        )\n",
        "        fpth = os.path.join(\"..\", \"tables\", \"{}-01.tex\".format(sim_name))\n",
        "        dtype = [\n",
        "            (\"k\", \"U30\"),\n",
        "            (\"thickness\", \"U30\"),\n",
        "            (\"k33\", \"U30\"),\n",
        "            (\"h0\", \"U30\"),\n",
        "        ]\n",
        "        arr = np.zeros(nlay, dtype=dtype)\n",
        "        for k in range(nlay):\n",
        "            arr[\"k\"][k] = bt.int_format(k + 1)\n",
        "            arr[\"thickness\"][k] = bt.float_format(zelevs[k] - zelevs[k + 1])\n",
        "            arr[\"k33\"][k] = bt.exp_format(k33[k])\n",
        "            arr[\"h0\"][k] = bt.float_format(strt[k])\n",
        "        if not silent:\n",
        "            print(\"creating...'{}'\".format(fpth))\n",
        "        col_widths = (0.1, 0.15, 0.30, 0.25)\n",
        "        bt.build_table(\n",
        "            caption, fpth, arr, headings=headings, col_widths=col_widths\n",
        "        )\n",
        "\n",
        "        caption = \"Interbed properties for example {}.\".format(sim_name)\n",
        "        headings = (\n",
        "            \"Interbed\",\n",
        "            \"Layer\",\n",
        "            \"Thickness\",\n",
        "            \"Initial stress\",\n",
        "        )\n",
        "        fpth = os.path.join(\"..\", \"tables\", \"{}-02.tex\".format(sim_name))\n",
        "        dtype = [\n",
        "            (\"ib\", \"U30\"),\n",
        "            (\"k\", \"U30\"),\n",
        "            (\"thickness\", \"U30\"),\n",
        "            (\"pcs0\", \"U30\"),\n",
        "        ]\n",
        "        arr = np.zeros(len(ib_ctype), dtype=dtype)\n",
        "        for idx, ctype in enumerate(ib_ctype):\n",
        "            arr[\"ib\"][idx] = bt.int_format(idx + 1)\n",
        "            arr[\"k\"][idx] = bt.int_format(ib_cellid[idx][0] + 1)\n",
        "            if ctype == \"nodelay\":\n",
        "                arr[\"thickness\"][idx] = bt.float_format(ib_thickness[idx])\n",
        "            else:\n",
        "                b = ib_thickness[idx] * ib_rnb[idx]\n",
        "                arr[\"thickness\"][idx] = bt.float_format(b)\n",
        "            arr[\"pcs0\"][idx] = bt.float_format(parameters[name][\"pcs0\"][idx])\n",
        "        if not silent:\n",
        "            print(\"creating...'{}'\".format(fpth))\n",
        "        bt.build_table(caption, fpth, arr, headings=headings)\n",
        "\n",
        "        caption = \"Aquifer storage properties for example {}.\".format(sim_name)\n",
        "        headings = (\n",
        "            \"Layer\",\n",
        "            \"Specific Storage\",\n",
        "        )\n",
        "        fpth = os.path.join(\"..\", \"tables\", \"{}-03.tex\".format(sim_name))\n",
        "        dtype = [(\"k\", \"U30\"), (\"ss\", \"U30\")]\n",
        "        arr = np.zeros(4, dtype=dtype)\n",
        "        for idx, k in enumerate((4, 6, 11, 13)):\n",
        "            arr[\"k\"][idx] = bt.int_format(k + 1)\n",
        "            arr[\"ss\"][idx] = bt.exp_format(parameters[name][\"cg_ske\"][k])\n",
        "        if not silent:\n",
        "            print(\"creating...'{}'\".format(fpth))\n",
        "        col_widths = (0.1, 0.25)\n",
        "        bt.build_table(\n",
        "            caption, fpth, arr, headings=headings, col_widths=col_widths\n",
        "        )\n",
        "\n",
        "        caption = \"Interbed storage properties for example {}.\".format(\n",
        "            sim_name\n",
        "        )\n",
        "        headings = (\n",
        "            \"Interbed\",\n",
        "            \"Layer\",\n",
        "            \"Inelastic \\\\newline Specific \\\\newline Storage\",\n",
        "            \"Elastic \\\\newline Specific \\\\newline Storage\",\n",
        "        )\n",
        "        fpth = os.path.join(\"..\", \"tables\", \"{}-04.tex\".format(sim_name))\n",
        "        dtype = [\n",
        "            (\"ib\", \"U30\"),\n",
        "            (\"k\", \"U30\"),\n",
        "            (\"ssv\", \"U30\"),\n",
        "            (\"sse\", \"U30\"),\n",
        "        ]\n",
        "        arr = np.zeros(len(ib_ctype), dtype=dtype)\n",
        "        for idx, ctype in enumerate(ib_ctype):\n",
        "            arr[\"ib\"][idx] = bt.int_format(idx + 1)\n",
        "            arr[\"k\"][idx] = bt.int_format(ib_cellid[idx][0] + 1)\n",
        "            arr[\"ssv\"][idx] = bt.exp_format(parameters[name][\"ssv\"][idx])\n",
        "            arr[\"sse\"][idx] = bt.exp_format(parameters[name][\"sse\"][idx])\n",
        "        if not silent:\n",
        "            print(\"creating...'{}'\".format(fpth))\n",
        "        col_widths = (0.2, 0.2, 0.2, 0.2)\n",
        "        bt.build_table(\n",
        "            caption,\n",
        "            fpth,\n",
        "            arr,\n",
        "            headings=headings,\n",
        "            col_widths=col_widths,\n",
        "        )\n",
        "\n",
        "    return"
      ],
      "execution_count": 27,
      "outputs": []
    },
    {
      "cell_type": "markdown",
      "metadata": {
        "lines_to_next_cell": 2,
        "id": "vBLaljEJfu7_"
      },
      "source": [
        "Function to get observed data as a pandas dataframe"
      ]
    },
    {
      "cell_type": "code",
      "metadata": {
        "lines_to_next_cell": 2,
        "id": "PR98NA6hfu8A"
      },
      "source": [
        "def get_obs_dataframe(file_name=\"008N010W01Q005S_1D.csv\"):\n",
        "    fpth = os.path.join(\"..\", \"data\", sim_name, file_name)\n",
        "    df = pd.read_csv(fpth, index_col=0)\n",
        "    df.index = pd.to_datetime(df.index.values)\n",
        "    df.rename({\"mean\": \"observed\"}, inplace=True, axis=1)\n",
        "    return df"
      ],
      "execution_count": 28,
      "outputs": []
    },
    {
      "cell_type": "markdown",
      "metadata": {
        "lines_to_next_cell": 2,
        "id": "-ynVV0jofu8A"
      },
      "source": [
        "Function to get simulation data as a pandas dataframe"
      ]
    },
    {
      "cell_type": "code",
      "metadata": {
        "lines_to_next_cell": 2,
        "id": "ifmQXbvvfu8A"
      },
      "source": [
        "def process_sim_csv(\n",
        "    fpth, index_tag=\"time\", origin_str=\"1908-05-09 00:00:00.000000\", **kwargs\n",
        "):\n",
        "    v = pd.read_csv(fpth, **kwargs)\n",
        "\n",
        "    v[\"date\"] = pd.to_datetime(\n",
        "        v[index_tag].values, unit=\"d\", origin=origin_str\n",
        "    )\n",
        "    v.set_index(\"date\", inplace=True)\n",
        "    v.drop(columns=index_tag, inplace=True)\n",
        "\n",
        "    col_list = list(v.columns)\n",
        "\n",
        "    return v, col_list"
      ],
      "execution_count": 29,
      "outputs": []
    },
    {
      "cell_type": "markdown",
      "metadata": {
        "lines_to_next_cell": 2,
        "id": "hNpP4-Ztfu8A"
      },
      "source": [
        "Function to process compaction data and return a pandas dataframe"
      ]
    },
    {
      "cell_type": "code",
      "metadata": {
        "lines_to_next_cell": 2,
        "id": "Mbbns-J9fu8A"
      },
      "source": [
        "def get_sim_dataframe(\n",
        "    fpth, index_tag=\"time\", origin_str=\"1908-05-09 00:00:00.000000\"\n",
        "):\n",
        "\n",
        "    v, col_list = process_sim_csv(\n",
        "        fpth, index_tag=index_tag, origin_str=origin_str\n",
        "    )\n",
        "\n",
        "    # calculate total skeletal and total\n",
        "    shape = v[col_list[0]].values.shape[0]\n",
        "    s = np.zeros(shape, dtype=float)\n",
        "    # skeletal\n",
        "    for tag in col_list:\n",
        "        if \"SKC\" in tag[:3]:\n",
        "            s += v[tag].values\n",
        "    v[\"SKELETAL\"] = s.copy()\n",
        "    # total\n",
        "    s[:] = 0.0\n",
        "    for tag in col_list:\n",
        "        if \"TC\" in tag[:2]:\n",
        "            s += v[tag].values\n",
        "    v[\"TOTAL\"] = s.copy()\n",
        "\n",
        "    for tag in col_list:\n",
        "        if \"TC\" in tag[:2] or \"SKC\" in tag[:3]:\n",
        "            v.drop(columns=tag, inplace=True)\n",
        "    return v"
      ],
      "execution_count": 30,
      "outputs": []
    },
    {
      "cell_type": "markdown",
      "metadata": {
        "lines_to_next_cell": 2,
        "id": "GzHff9gQfu8A"
      },
      "source": [
        "Function to new DataFrame with all columns values interpolated to new_index values"
      ]
    },
    {
      "cell_type": "code",
      "metadata": {
        "lines_to_next_cell": 2,
        "id": "ht_HMSj_fu8A"
      },
      "source": [
        "def dataframe_interp(df_in, new_index):\n",
        "    df_out = pd.DataFrame(index=new_index)\n",
        "    df_out.index.name = df_in.index.name\n",
        "\n",
        "    for colname, col in df_in.iteritems():\n",
        "        df_out[colname] = np.interp(new_index, df_in.index, col)\n",
        "\n",
        "    return df_out"
      ],
      "execution_count": 31,
      "outputs": []
    },
    {
      "cell_type": "markdown",
      "metadata": {
        "lines_to_next_cell": 2,
        "id": "vaIbXppYfu8B"
      },
      "source": [
        "Function to process compaction data"
      ]
    },
    {
      "cell_type": "code",
      "metadata": {
        "lines_to_next_cell": 2,
        "id": "UsmvQs5Qfu8B"
      },
      "source": [
        "def process_csub_obs(fpth):\n",
        "    tdata = np.genfromtxt(fpth, names=True, delimiter=\",\")\n",
        "    dtype = [\n",
        "        (\"time\", float),\n",
        "        (\"CUNIT\", float),\n",
        "        (\"AQUITARD\", float),\n",
        "        (\"NODELAY\", float),\n",
        "        (\"DELAY\", float),\n",
        "        (\"SKELETAL\", float),\n",
        "        (\"TOTAL\", float),\n",
        "    ]\n",
        "\n",
        "    # create structured array and fill time\n",
        "    v = np.zeros(tdata.shape[0], dtype=dtype)\n",
        "    v[\"time\"] = tdata[\"time\"]\n",
        "    v[\"time\"] /= 365.25\n",
        "    v[\"time\"] += 1908.353182752\n",
        "\n",
        "    # transfer data from temporary storage\n",
        "    for key in pcomp:\n",
        "        if key != \"TOTAL\" and key != \"SKELETAL\":\n",
        "            v[key] = tdata[key].copy()\n",
        "\n",
        "    # calculate skeletal\n",
        "    for key in tdata.dtype.names[1:]:\n",
        "        if \"SKC\" in key[:3]:\n",
        "            v[\"SKELETAL\"] += tdata[key]\n",
        "\n",
        "    # calculate total\n",
        "    for key in tdata.dtype.names[1:]:\n",
        "        if \"TC\" in key[:2]:\n",
        "            v[\"TOTAL\"] += tdata[key]\n",
        "\n",
        "    return v"
      ],
      "execution_count": 32,
      "outputs": []
    },
    {
      "cell_type": "markdown",
      "metadata": {
        "lines_to_next_cell": 2,
        "id": "Ed7yfWRMfu8B"
      },
      "source": [
        "Function used for plots"
      ]
    },
    {
      "cell_type": "code",
      "metadata": {
        "id": "jGs0gRSffu8B"
      },
      "source": [
        "def set_label(label, text=\"text\"):\n",
        "    if label == \"\":\n",
        "        label = text\n",
        "    else:\n",
        "        label = None\n",
        "    return label"
      ],
      "execution_count": 33,
      "outputs": []
    },
    {
      "cell_type": "code",
      "metadata": {
        "id": "UQffbKobfu8B"
      },
      "source": [
        "def print_label(ax, zelev, k, fontsize=6):\n",
        "    zmax = zelev[-1][0]\n",
        "    z0 = zelev[k][0]\n",
        "    z1 = zelev[k + 1][0]\n",
        "    z = 1 - 0.5 * (z0 + z1) / zmax\n",
        "    text = \"Layer {}\".format(k + 1)\n",
        "    if k == 10:\n",
        "        arrowprops = dict(\n",
        "            facecolor=\"black\",\n",
        "            arrowstyle=\"-\",\n",
        "            lw=0.5,\n",
        "            connectionstyle=\"angle,angleA=-90,angleB=180,rad=0\",\n",
        "            shrinkA=0,\n",
        "            shrinkB=0,\n",
        "        )\n",
        "        ax.annotate(\n",
        "            text,\n",
        "            xy=(1, z),\n",
        "            xytext=(1.01, z - 0.025),\n",
        "            ha=\"left\",\n",
        "            va=\"top\",\n",
        "            zorder=103,\n",
        "            xycoords=\"axes fraction\",\n",
        "            textcoords=\"axes fraction\",\n",
        "            arrowprops=arrowprops,\n",
        "            fontsize=fontsize,\n",
        "        )\n",
        "    else:\n",
        "        ax.text(\n",
        "            1.01,\n",
        "            z,\n",
        "            text,\n",
        "            fontsize=fontsize,\n",
        "            ha=\"left\",\n",
        "            va=\"center\",\n",
        "            transform=plt.gca().transAxes,\n",
        "            zorder=103,\n",
        "        )\n",
        "    return"
      ],
      "execution_count": 34,
      "outputs": []
    },
    {
      "cell_type": "code",
      "metadata": {
        "lines_to_next_cell": 2,
        "id": "tblQwQ8hfu8B"
      },
      "source": [
        "def constant_heads(ax, annotate=False, fontsize=6, xrange=(0, 1)):\n",
        "    arrowprops = dict(\n",
        "        facecolor=\"black\", arrowstyle=\"-\", lw=0.5, shrinkA=0, shrinkB=0\n",
        "    )\n",
        "    label = \"\"\n",
        "    for k in [0, 5, 10, 12]:\n",
        "        label = set_label(label, text=\"Constant head\")\n",
        "        color = \"cyan\"\n",
        "        if k == 0:\n",
        "            zo = 1\n",
        "            lw = 0.5\n",
        "        else:\n",
        "            zo = 200\n",
        "            lw = 0.5\n",
        "        ax.fill_between(\n",
        "            xrange,\n",
        "            edges[k],\n",
        "            y2=edges[k + 1],\n",
        "            color=color,\n",
        "            lw=lw,\n",
        "            label=label,\n",
        "            zorder=zo,\n",
        "        )\n",
        "        if annotate:\n",
        "            text = \"Constant\\nhead\"\n",
        "            x = 47.5\n",
        "            if k == 0:\n",
        "                y = 0.5 * (edges[k][0] + edges[k + 1][0])\n",
        "                ax.text(\n",
        "                    x,\n",
        "                    y,\n",
        "                    text,\n",
        "                    fontsize=fontsize,\n",
        "                    ha=\"center\",\n",
        "                    va=\"center\",\n",
        "                    zorder=203,\n",
        "                )\n",
        "            else:\n",
        "                y = edges[k + 1][0]\n",
        "                ax.annotate(\n",
        "                    text,\n",
        "                    xy=(x + 2.25, y),\n",
        "                    xytext=(x, y + 5),\n",
        "                    ha=\"center\",\n",
        "                    va=\"top\",\n",
        "                    zorder=203,\n",
        "                    arrowprops=arrowprops,\n",
        "                    fontsize=fontsize,\n",
        "                )\n",
        "\n",
        "    return"
      ],
      "execution_count": 35,
      "outputs": []
    },
    {
      "cell_type": "markdown",
      "metadata": {
        "lines_to_next_cell": 2,
        "id": "iuLyOryDfu8C"
      },
      "source": [
        "Function to plot the model grid"
      ]
    },
    {
      "cell_type": "code",
      "metadata": {
        "lines_to_next_cell": 2,
        "id": "0QvFFRMyfu8C"
      },
      "source": [
        "def plot_grid(silent=True):\n",
        "    verbose = not silent\n",
        "    fs = USGSFigure(figure_type=\"map\", verbose=verbose)\n",
        "    name = list(parameters.keys())[0]\n",
        "\n",
        "    # # load the model\n",
        "    # sim = flopy.mf6.MFSimulation.load(sim_name=name, sim_ws=sim_ws)\n",
        "    # gwf = sim.get_model(name)\n",
        "\n",
        "    xrange = (0, 1)\n",
        "    chds = (5, 10, 12)\n",
        "\n",
        "    fig, axes = plt.subplots(nrows=1, ncols=3, sharey=True, figsize=(5.1, 4.0))\n",
        "\n",
        "    for idx, ax in enumerate(axes):\n",
        "        ax.set_xlim(xrange)\n",
        "        ax.set_ylim(edges[-1][0], 0)\n",
        "        for edge in edges:\n",
        "            ax.plot(xrange, edge, lw=0.5, color=\"black\")\n",
        "        ax.tick_params(\n",
        "            axis=\"x\", which=\"both\", bottom=False, top=False, labelbottom=False\n",
        "        )\n",
        "        ax.tick_params(axis=\"y\", which=\"both\", right=False, labelright=False)\n",
        "\n",
        "    ax = axes[0]\n",
        "    ax.fill_between(\n",
        "        xrange,\n",
        "        edges[0],\n",
        "        y2=edges[1],\n",
        "        color=\"green\",\n",
        "        lw=0,\n",
        "        label=\"Upper aquifer\",\n",
        "    )\n",
        "\n",
        "    label = \"\"\n",
        "    for k in (1, 2, 3):\n",
        "        label = set_label(label, text=\"Confining unit\")\n",
        "        ax.fill_between(\n",
        "            xrange, edges[k], y2=edges[k + 1], color=\"brown\", lw=0, label=label\n",
        "        )\n",
        "\n",
        "    label = \"\"\n",
        "    for k in (7, 8, 9):\n",
        "        label = set_label(label, text=\"Thick aquitard\")\n",
        "        ax.fill_between(\n",
        "            xrange, edges[k], y2=edges[k + 1], color=\"tan\", lw=0, label=label\n",
        "        )\n",
        "\n",
        "    # middle aquifer\n",
        "    midz = 825.0 / 3.8081\n",
        "    midz = [edges[4], edges[7], edges[10], (midz, midz)]\n",
        "    ax.fill_between(\n",
        "        xrange, midz[0], y2=midz[1], color=\"cyan\", lw=0, label=\"Middle aquifer\"\n",
        "    )\n",
        "    ax.fill_between(xrange, midz[2], y2=midz[3], color=\"cyan\", lw=0)\n",
        "\n",
        "    # lower aquifer\n",
        "    ax.fill_between(\n",
        "        xrange,\n",
        "        midz[-1],\n",
        "        y2=edges[-1],\n",
        "        color=\"blue\",\n",
        "        lw=0,\n",
        "        label=\"Lower aquifer\",\n",
        "    )\n",
        "\n",
        "    fs.graph_legend(ax, loc=\"lower right\", frameon=True, framealpha=1)\n",
        "    fs.heading(ax=ax, letter=\"A\", heading=\"Hydrostratigraphy\")\n",
        "    fs.remove_edge_ticks(ax)\n",
        "    ax.set_ylabel(\"Depth below land surface, in meters\")\n",
        "\n",
        "    # csub interbeds\n",
        "    ax = axes[1]\n",
        "\n",
        "    nodelay = (1, 2, 3, 6, 7, 8, 9)\n",
        "    label = \"\"\n",
        "    for k in nodelay:\n",
        "        label = set_label(label, text=\"No-delay\")\n",
        "        ax.fill_between(\n",
        "            xrange, edges[k], y2=edges[k + 1], color=\"0.5\", lw=0, label=label\n",
        "        )\n",
        "\n",
        "    comb = [4, 11, 13]\n",
        "    label = \"\"\n",
        "    for k in comb:\n",
        "        label = set_label(label, text=\"No-delay\\nand delay\")\n",
        "        ax.fill_between(\n",
        "            xrange, edges[k], y2=edges[k + 1], color=\"brown\", lw=0, label=label\n",
        "        )\n",
        "\n",
        "    for k in chds:\n",
        "        ax.fill_between(\n",
        "            xrange,\n",
        "            edges[k],\n",
        "            y2=edges[k + 1],\n",
        "            color=\"white\",\n",
        "            lw=0.75,\n",
        "            zorder=100,\n",
        "        )\n",
        "\n",
        "    leg = fs.graph_legend(ax, loc=\"lower right\", frameon=True, framealpha=1)\n",
        "    leg.set_zorder(100)\n",
        "    fs.heading(ax=ax, letter=\"B\", heading=\"Interbed types\")\n",
        "    fs.remove_edge_ticks(ax)\n",
        "\n",
        "    # boundary conditions\n",
        "    ax = axes[2]\n",
        "    constant_heads(ax)\n",
        "\n",
        "    for k in llabels:\n",
        "        print_label(ax, edges, k)\n",
        "\n",
        "    fs.graph_legend(ax, loc=\"lower left\")\n",
        "    fs.heading(ax=ax, letter=\"C\", heading=\"Boundary conditions\")\n",
        "    fs.remove_edge_ticks(ax)\n",
        "\n",
        "    fig.tight_layout(pad=0.5)\n",
        "\n",
        "    # save figure\n",
        "    if config.plotSave:\n",
        "        fpth = os.path.join(\n",
        "            \"..\", \"figures\", \"{}-grid{}\".format(sim_name, config.figure_ext)\n",
        "        )\n",
        "        if not silent:\n",
        "            print(\"saving...'{}'\".format(fpth))\n",
        "        fig.savefig(fpth)"
      ],
      "execution_count": 36,
      "outputs": []
    },
    {
      "cell_type": "markdown",
      "metadata": {
        "lines_to_next_cell": 2,
        "id": "b_0g75fJfu8C"
      },
      "source": [
        "Function to plot the boundary heads"
      ]
    },
    {
      "cell_type": "code",
      "metadata": {
        "lines_to_next_cell": 2,
        "id": "fFWxFzhnfu8C"
      },
      "source": [
        "def plot_boundary_heads(silent=True):\n",
        "    verbose = not silent\n",
        "    fs = USGSFigure(figure_type=\"graph\", verbose=verbose)\n",
        "\n",
        "    def process_dtw_obs(fpth):\n",
        "        v = np.genfromtxt(fpth, names=True, delimiter=\",\")\n",
        "        v[\"time\"] /= 365.25\n",
        "        v[\"time\"] += 1908.353182752\n",
        "        for key in v.dtype.names[1:]:\n",
        "            v[key] *= -1.0\n",
        "        return v\n",
        "\n",
        "    name = list(parameters.keys())[0]\n",
        "    pth = os.path.join(ws, name, \"{}.gwf.obs.csv\".format(name))\n",
        "    hdata = process_dtw_obs(pth)\n",
        "\n",
        "    pheads = (\"HD01\", \"HD12\", \"HD14\")\n",
        "    hlabels = (\"Upper aquifer\", \"Middle aquifer\", \"Lower aquifer\")\n",
        "    hcolors = (\"green\", \"cyan\", \"blue\")\n",
        "\n",
        "    fig, ax = plt.subplots(nrows=1, ncols=1, figsize=(6.8, 6.8 / 3))\n",
        "\n",
        "    ax.set_xlim(1907, 2007)\n",
        "    ax.set_xticks(xticks)\n",
        "    ax.set_ylim(50.0, -10.0)\n",
        "    ax.set_yticks(sorted([50.0, 40.0, 30.0, 20.0, 10.0, 0.0, -10.0]))\n",
        "\n",
        "    ax.plot([1907, 2007], [0, 0], lw=0.5, color=\"0.5\")\n",
        "    for idx, key in enumerate(pheads):\n",
        "        ax.plot(\n",
        "            hdata[\"time\"],\n",
        "            hdata[key],\n",
        "            lw=0.75,\n",
        "            color=hcolors[idx],\n",
        "            label=hlabels[idx],\n",
        "        )\n",
        "\n",
        "    fs.graph_legend(ax=ax, frameon=False)\n",
        "    ax.set_ylabel(\"Depth to water, in {}\".format(length_units))\n",
        "    ax.set_xlabel(\"Year\")\n",
        "\n",
        "    fs.remove_edge_ticks(ax=ax)\n",
        "\n",
        "    fig.tight_layout()\n",
        "\n",
        "    # save figure\n",
        "    if config.plotSave:\n",
        "        fpth = os.path.join(\n",
        "            \"..\", \"figures\", \"{}-01{}\".format(sim_name, config.figure_ext)\n",
        "        )\n",
        "        if not silent:\n",
        "            print(\"saving...'{}'\".format(fpth))\n",
        "        fig.savefig(fpth)"
      ],
      "execution_count": 37,
      "outputs": []
    },
    {
      "cell_type": "markdown",
      "metadata": {
        "lines_to_next_cell": 2,
        "id": "EnfXPFo6fu8C"
      },
      "source": [
        "Function to plot the head and effective stress based results"
      ]
    },
    {
      "cell_type": "code",
      "metadata": {
        "id": "8g-ZkrnBfu8C"
      },
      "source": [
        "def plot_head_es_comparison(silent=True):\n",
        "    verbose = not silent\n",
        "    fs = USGSFigure(figure_type=\"graph\", verbose=verbose)\n",
        "    name = list(parameters.keys())[0]\n",
        "    pth = os.path.join(ws, name, \"{}.csub.obs.csv\".format(name))\n",
        "    hb = process_csub_obs(pth)\n",
        "\n",
        "    name = list(parameters.keys())[1]\n",
        "    pth = os.path.join(ws, name, \"{}.csub.obs.csv\".format(name))\n",
        "    es = process_csub_obs(pth)\n",
        "\n",
        "    ymin = (2.0, 1, 1, 1, 0.1, 0.1)\n",
        "\n",
        "    me = {}\n",
        "    for idx, key in enumerate(pcomp):\n",
        "        v = (es[key] - hb[key]).mean()\n",
        "        me[key] = v\n",
        "\n",
        "    fig, axes = plt.subplots(nrows=6, ncols=1, sharex=True, figsize=(6.8, 4.7))\n",
        "    for idx, key in enumerate(pcomp):\n",
        "        label = clabels[idx]\n",
        "        ax = axes[idx]\n",
        "        ax.set_xlim(1907, 2007)\n",
        "        ax.set_ylim(0, ymin[idx])\n",
        "        ax.set_xticks(xticks)\n",
        "        stext = \"none\"\n",
        "        otext = \"none\"\n",
        "        if idx == 0:\n",
        "            stext = \"Effective stress-based\"\n",
        "            otext = \"Head-based\"\n",
        "        mtext = \"mean error = {:7.4f} {}\".format(me[key], length_units)\n",
        "        ax.plot(hb[\"time\"], hb[key], color=\"#238A8DFF\", lw=1.25, label=otext)\n",
        "        ax.plot(\n",
        "            es[\"time\"],\n",
        "            es[key],\n",
        "            color=\"black\",\n",
        "            lw=0.75,\n",
        "            label=stext,\n",
        "            zorder=101,\n",
        "        )\n",
        "        ltext = chr(ord(\"A\") + idx)\n",
        "        htext = \"{}\".format(label)\n",
        "        fs.heading(ax, letter=ltext, heading=htext)\n",
        "        va = \"bottom\"\n",
        "        ym = 0.15\n",
        "        if idx in [2, 3]:\n",
        "            va = \"top\"\n",
        "            ym = 0.85\n",
        "        ax.text(\n",
        "            0.99,\n",
        "            ym,\n",
        "            mtext,\n",
        "            ha=\"right\",\n",
        "            va=va,\n",
        "            transform=ax.transAxes,\n",
        "            fontsize=7,\n",
        "        )\n",
        "        fs.remove_edge_ticks(ax=ax)\n",
        "        if idx == 0:\n",
        "            fs.graph_legend(ax, loc=\"center left\", ncol=2)\n",
        "        if idx == 5:\n",
        "            ax.set_xlabel(\"Year\")\n",
        "\n",
        "    axp1 = fig.add_subplot(1, 1, 1, frameon=False)\n",
        "    axp1.tick_params(\n",
        "        labelcolor=\"none\", top=\"off\", bottom=\"off\", left=\"off\", right=\"off\"\n",
        "    )\n",
        "    axp1.set_xlim(0, 1)\n",
        "    axp1.set_xticks([0, 1])\n",
        "    axp1.set_ylim(0, 1)\n",
        "    axp1.set_yticks([0, 1])\n",
        "    axp1.set_ylabel(\"Compaction, in {}\".format(length_units))\n",
        "    axp1.yaxis.set_label_coords(-0.05, 0.5)\n",
        "    fs.remove_edge_ticks(ax)\n",
        "\n",
        "    fig.tight_layout(pad=0.0001)\n",
        "\n",
        "    # save figure\n",
        "    if config.plotSave:\n",
        "        fpth = os.path.join(\n",
        "            \"..\", \"figures\", \"{}-02{}\".format(sim_name, config.figure_ext)\n",
        "        )\n",
        "        if not silent:\n",
        "            print(\"saving...'{}'\".format(fpth))\n",
        "        fig.savefig(fpth)"
      ],
      "execution_count": 38,
      "outputs": []
    },
    {
      "cell_type": "code",
      "metadata": {
        "lines_to_next_cell": 2,
        "id": "fTQME570fu8D"
      },
      "source": [
        "def plot_calibration(silent=True):\n",
        "    verbose = not silent\n",
        "    fs = USGSFigure(figure_type=\"graph\", verbose=verbose)\n",
        "\n",
        "    name = list(parameters.keys())[1]\n",
        "    pth = os.path.join(ws, name, \"{}.csub.obs.csv\".format(name))\n",
        "    df_sim = get_sim_dataframe(pth)\n",
        "    df_sim.rename({\"TOTAL\": \"simulated\"}, inplace=True, axis=1)\n",
        "\n",
        "    pth = os.path.join(\"..\", \"data\", sim_name, \"boundary_heads.csv\")\n",
        "    df_obs_heads, col_list = process_sim_csv(pth)\n",
        "\n",
        "    ccolors = (\n",
        "        \"black\",\n",
        "        \"tan\",\n",
        "        \"cyan\",\n",
        "        \"brown\",\n",
        "        \"blue\",\n",
        "        \"violet\",\n",
        "    )\n",
        "\n",
        "    xf0 = datetime.datetime(1907, 1, 1, 0, 0, 0)\n",
        "    xf1 = datetime.datetime(2007, 1, 1, 0, 0, 0)\n",
        "    xf0s = datetime.datetime(1990, 1, 1, 0, 0, 0)\n",
        "    xf1s = datetime.datetime(2007, 1, 1, 0, 0, 0)\n",
        "    xc0 = datetime.datetime(1992, 10, 1, 0, 0, 0)\n",
        "    xc1 = datetime.datetime(2006, 9, 4, 0, 0, 0)\n",
        "    dx = xc1 - xc0\n",
        "    xca = xc0 + dx / 2\n",
        "\n",
        "    # get observation data\n",
        "    df = get_obs_dataframe(file_name=\"008N010W01Q005S_obs.csv\")\n",
        "    ix0 = df.index.get_loc(\"2006-09-04 00:00:00\")\n",
        "    offset = df_sim[\"simulated\"].values[-1] - df.observed.values[ix0]\n",
        "    df.observed += offset\n",
        "\n",
        "    # -- subplot a -----------------------------------------------------------\n",
        "    # build box for subplot B\n",
        "    o = datetime.timedelta(31)\n",
        "    ix = (xf0s, xf0s, xf1s - o, xf1s - o, xf0s)\n",
        "    iy = (1.15, 1.45, 1.45, 1.15, 1.15)\n",
        "    # -- subplot a -----------------------------------------------------------\n",
        "\n",
        "    # -- subplot c -----------------------------------------------------------\n",
        "    # get observations\n",
        "    df_pc = get_obs_dataframe()\n",
        "\n",
        "    # get index for start of calibration period for subplot c\n",
        "    ix0 = df_sim.index.get_loc(\"1992-10-01 12:00:00\")\n",
        "\n",
        "    # get initial simulated compaction\n",
        "    cstart = df_sim.simulated[ix0]\n",
        "\n",
        "    # cut off initial portion of simulated compaction\n",
        "    df_sim_pc = df_sim[ix0:].copy()\n",
        "\n",
        "    # reset initial compaction to 0.\n",
        "    df_sim_pc.simulated -= cstart\n",
        "\n",
        "    # reset simulated so maximum compaction is the same\n",
        "    offset = df_pc.observed.values.max() - df_sim_pc.simulated.values[-1]\n",
        "    df_sim.simulated += offset\n",
        "\n",
        "    # interpolate subsidence observations to the simulation index for subplot c\n",
        "    df_iobs_pc = dataframe_interp(df_pc, df_sim_pc.index)\n",
        "\n",
        "    # truncate head to start of observations\n",
        "    head_pc = dataframe_interp(df_obs_heads, df_sim_pc.index)\n",
        "\n",
        "    # calculate geostatic stress\n",
        "    gs = sgm * (0.0 - head_pc.CHD_L01.values) + sgs * (\n",
        "        head_pc.CHD_L01.values - botm[-1]\n",
        "    )\n",
        "\n",
        "    # calculate hydrostatic stress for subplot c\n",
        "    u = head_pc.CHD_L13.values - botm[-1]\n",
        "\n",
        "    # calculate effective stress\n",
        "    es_obs = gs - u\n",
        "\n",
        "    # set up indices for date text for plot c\n",
        "    locs = [\"{:04d}-10-01 12:00:00\".format(yr) for yr in range(1992, 2006)]\n",
        "    locs += [\"{:04d}-04-01 12:00:00\".format(yr) for yr in range(1993, 2007)]\n",
        "    locs += [\"2006-09-04 12:00:00\"]\n",
        "\n",
        "    ixs = [head_pc.index.get_loc(loc) for loc in locs]\n",
        "    # -- subplot c -----------------------------------------------------------\n",
        "\n",
        "    ctext = \"Calibration period\\n{} to {}\".format(\n",
        "        xc0.strftime(\"%B %d, %Y\"), xc1.strftime(\"%B %d, %Y\")\n",
        "    )\n",
        "\n",
        "    fig, axes = plt.subplots(nrows=3, ncols=1, figsize=(6.8, 6.8))\n",
        "\n",
        "    # -- plot a --------------------------------------------------------------\n",
        "    ax = axes.flat[0]\n",
        "    ax.set_xlim(xf0, xf1)\n",
        "    ax.plot([xf0, xf1], [0, 0], lw=0.5, color=\"0.5\")\n",
        "    ax.plot(\n",
        "        [\n",
        "            xf0,\n",
        "        ],\n",
        "        [\n",
        "            -10,\n",
        "        ],\n",
        "        marker=\".\",\n",
        "        ms=1,\n",
        "        lw=0,\n",
        "        color=\"red\",\n",
        "        label=\"Holly site (8N/10W-1Q)\",\n",
        "    )\n",
        "    for idx, key in enumerate(pcomp):\n",
        "        if key == \"TOTAL\":\n",
        "            key = \"simulated\"\n",
        "        color = ccolors[idx]\n",
        "        label = clabels[idx]\n",
        "        ax.plot(\n",
        "            df_sim.index.values,\n",
        "            df_sim[key].values,\n",
        "            color=color,\n",
        "            label=label,\n",
        "            lw=0.75,\n",
        "        )\n",
        "    ax.plot(ix, iy, lw=1.0, color=\"red\", zorder=200)\n",
        "    fs.add_text(ax=ax, text=\"B\", x=xf0s, y=1.14, transform=False)\n",
        "\n",
        "    ax.set_ylim(1.5, -0.1)\n",
        "    ax.xaxis.set_ticks(df_xticks)\n",
        "    ax.xaxis.set_major_formatter(mpl.dates.DateFormatter(\"%m/%d/%Y\"))\n",
        "\n",
        "    ax.set_ylabel(\"Compaction, in {}\".format(length_units))\n",
        "    ax.set_xlabel(\"Year\")\n",
        "\n",
        "    fs.graph_legend(ax=ax, frameon=False)\n",
        "    fs.heading(ax, letter=\"A\")\n",
        "    fs.remove_edge_ticks(ax=ax)\n",
        "\n",
        "    # -- plot b --------------------------------------------------------------\n",
        "    ax = axes.flat[1]\n",
        "    ax.set_xlim(xf0s, xf1s)\n",
        "    ax.set_ylim(1.45, 1.15)\n",
        "    ax.plot(\n",
        "        df.index.values,\n",
        "        df[\"observed\"].values,\n",
        "        marker=\".\",\n",
        "        ms=1,\n",
        "        lw=0,\n",
        "        color=\"red\",\n",
        "    )\n",
        "    ax.plot(\n",
        "        df_sim.index.values,\n",
        "        df_sim[\"simulated\"].values,\n",
        "        color=\"black\",\n",
        "        label=label,\n",
        "        lw=0.75,\n",
        "    )\n",
        "\n",
        "    # plot lines for calibration\n",
        "    ax.plot([xc0, xc0], [1.45, 1.15], color=\"black\", lw=0.5, ls=\":\")\n",
        "    ax.plot([xc1, xc1], [1.45, 1.15], color=\"black\", lw=0.5, ls=\":\")\n",
        "    fs.add_annotation(\n",
        "        ax=ax,\n",
        "        text=ctext,\n",
        "        italic=False,\n",
        "        bold=False,\n",
        "        xy=(xc0 - o, 1.2),\n",
        "        xytext=(xca, 1.2),\n",
        "        ha=\"center\",\n",
        "        va=\"center\",\n",
        "        arrowprops=dict(arrowstyle=\"-|>\", fc=\"black\", lw=0.5),\n",
        "        color=\"none\",\n",
        "        bbox=dict(boxstyle=\"square,pad=-0.07\", fc=\"none\", ec=\"none\"),\n",
        "    )\n",
        "    fs.add_annotation(\n",
        "        ax=ax,\n",
        "        text=ctext,\n",
        "        italic=False,\n",
        "        bold=False,\n",
        "        xy=(xc1 + o, 1.2),\n",
        "        xytext=(xca, 1.2),\n",
        "        ha=\"center\",\n",
        "        va=\"center\",\n",
        "        arrowprops=dict(arrowstyle=\"-|>\", fc=\"black\", lw=0.5),\n",
        "        bbox=dict(boxstyle=\"square,pad=-0.07\", fc=\"none\", ec=\"none\"),\n",
        "    )\n",
        "\n",
        "    ax.yaxis.set_ticks(np.linspace(1.15, 1.45, 7))\n",
        "    ax.xaxis.set_ticks(df_xticks1)\n",
        "\n",
        "    ax.xaxis.set_major_locator(mpl.dates.YearLocator())\n",
        "    ax.xaxis.set_minor_locator(mpl.dates.YearLocator(month=6, day=15))\n",
        "\n",
        "    ax.xaxis.set_major_formatter(mpl.ticker.NullFormatter())\n",
        "    ax.xaxis.set_minor_formatter(mpl.dates.DateFormatter(\"%Y\"))\n",
        "    ax.tick_params(axis=\"x\", which=\"minor\", length=0)\n",
        "\n",
        "    ax.set_ylabel(\"Compaction, in {}\".format(length_units))\n",
        "    ax.set_xlabel(\"Year\")\n",
        "    fs.heading(ax, letter=\"B\")\n",
        "    fs.remove_edge_ticks(ax=ax)\n",
        "\n",
        "    # -- plot c --------------------------------------------------------------\n",
        "    ax = axes.flat[2]\n",
        "    ax.set_xlim(-0.01, 0.2)\n",
        "    ax.set_ylim(368, 376)\n",
        "\n",
        "    ax.plot(\n",
        "        df_iobs_pc.observed.values,\n",
        "        es_obs,\n",
        "        marker=\".\",\n",
        "        ms=1,\n",
        "        color=\"red\",\n",
        "        lw=0,\n",
        "        label=\"Holly site (8N/10W-1Q)\",\n",
        "    )\n",
        "    ax.plot(\n",
        "        df_sim_pc.simulated.values,\n",
        "        df_sim_pc.ES14.values,\n",
        "        color=\"black\",\n",
        "        lw=0.75,\n",
        "        label=\"Simulated\",\n",
        "    )\n",
        "\n",
        "    for idx, ixc in enumerate(ixs):\n",
        "        text = \"{}\".format(df_iobs_pc.index[ixc].strftime(\"%m/%d/%Y\"))\n",
        "        if df_iobs_pc.index[ixc].month == 4:\n",
        "            dxc = -0.001\n",
        "            dyc = -1\n",
        "        elif df_iobs_pc.index[ixc].month == 9:\n",
        "            dxc = 0.002\n",
        "            dyc = 0.75\n",
        "        else:\n",
        "            dxc = 0.001\n",
        "            dyc = 1\n",
        "        xc = df_iobs_pc.observed[ixc]\n",
        "        yc = es_obs[ixc]\n",
        "        fs.add_annotation(\n",
        "            ax=ax,\n",
        "            text=text,\n",
        "            italic=False,\n",
        "            bold=False,\n",
        "            xy=(xc, yc),\n",
        "            xytext=(xc + dxc, yc + dyc),\n",
        "            ha=\"center\",\n",
        "            va=\"center\",\n",
        "            fontsize=7,\n",
        "            arrowprops=dict(arrowstyle=\"-\", color=\"red\", fc=\"red\", lw=0.5),\n",
        "            bbox=dict(boxstyle=\"square,pad=-0.15\", fc=\"none\", ec=\"none\"),\n",
        "        )\n",
        "\n",
        "    xtext = \"Total compaction since {}, in {}\".format(\n",
        "        df_sim_pc.index[0].strftime(\"%B %d, %Y\"), length_units\n",
        "    )\n",
        "    ytext = (\n",
        "        \"Effective stress at the bottom of\\nthe lower aquifer, in \"\n",
        "        + \"{} of water\".format(length_units)\n",
        "    )\n",
        "    ax.set_xlabel(xtext)\n",
        "    ax.set_ylabel(ytext)\n",
        "    fs.heading(ax, letter=\"C\")\n",
        "    fs.remove_edge_ticks(ax=ax)\n",
        "    fs.remove_edge_ticks(ax)\n",
        "\n",
        "    # finalize figure\n",
        "    fig.tight_layout(pad=0.01)\n",
        "\n",
        "    # save figure\n",
        "    if config.plotSave:\n",
        "        fpth = os.path.join(\n",
        "            \"..\", \"figures\", \"{}-03{}\".format(sim_name, config.figure_ext)\n",
        "        )\n",
        "        if not silent:\n",
        "            print(\"saving...'{}'\".format(fpth))\n",
        "        fig.savefig(fpth)"
      ],
      "execution_count": 39,
      "outputs": []
    },
    {
      "cell_type": "markdown",
      "metadata": {
        "lines_to_next_cell": 2,
        "id": "Jo4gZbO0fu8D"
      },
      "source": [
        "Function to plot vertical head profiles"
      ]
    },
    {
      "cell_type": "code",
      "metadata": {
        "lines_to_next_cell": 2,
        "id": "skUlvvorfu8D"
      },
      "source": [
        "def plot_vertical_head(silent=True):\n",
        "    verbose = not silent\n",
        "    fs = USGSFigure(figure_type=\"graph\", verbose=verbose)\n",
        "\n",
        "    name = list(parameters.keys())[1]\n",
        "    pth = os.path.join(ws, name, \"{}.gwf.obs.csv\".format(name))\n",
        "    df_heads, col_list = process_sim_csv(\n",
        "        pth, origin_str=\"1908-05-09 00:00:00.000000\"\n",
        "    )\n",
        "    df_heads_year = df_heads.groupby(df_heads.index.year).mean()\n",
        "\n",
        "    def get_colors(vmax=6):\n",
        "        # set color\n",
        "        cmap = plt.get_cmap(\"viridis\")\n",
        "        cNorm = mpl.colors.Normalize(vmin=0, vmax=vmax)\n",
        "        scalarMap = mpl.cm.ScalarMappable(norm=cNorm, cmap=cmap)\n",
        "        colors = []\n",
        "        for ic in range(vmax):\n",
        "            colors.append(scalarMap.to_rgba(ic))\n",
        "        return colors\n",
        "\n",
        "    def build_head_data(df, year=1908):\n",
        "        dfr = df.loc[df.index == year]\n",
        "        xlabel = None\n",
        "        x = []\n",
        "        y = []\n",
        "        for k in range(14):\n",
        "            tag = \"HD{:02d}\".format(k + 1)\n",
        "            h = dfr[tag].values[0]\n",
        "            if k == 0:\n",
        "                z0 = -25.0\n",
        "                xlabel = -1.0 * h\n",
        "            else:\n",
        "                z0 = zelevs[k]\n",
        "            z1 = zelevs[k + 1]\n",
        "            h *= -1.0\n",
        "            x += [h, h]\n",
        "            y += [-z0, -z1]\n",
        "        return xlabel, x, y\n",
        "\n",
        "    iyears = (1908, 1916, 1926, 1936, 1946, 1956, 1966, 1976, 1986, 1996, 2006)\n",
        "    colors = get_colors(vmax=len(iyears) - 1)\n",
        "\n",
        "    xrange = (-10, 50)\n",
        "    fig, ax = plt.subplots(\n",
        "        nrows=1, ncols=1, sharey=True, figsize=(0.75 * 6.8, 4.0)\n",
        "    )\n",
        "\n",
        "    ax.set_xlim(xrange)\n",
        "    ax.set_ylim(-botm[-1], 0)\n",
        "\n",
        "    for z in botm:\n",
        "        ax.axhline(y=-z, xmin=-30, xmax=160, lw=0.5, color=\"0.5\")\n",
        "\n",
        "    # add confining units\n",
        "    label = \"\"\n",
        "    for k in (1, 2, 3):\n",
        "        label = set_label(label, text=\"Confining unit\")\n",
        "        ax.fill_between(\n",
        "            xrange, edges[k], y2=edges[k + 1], color=\"brown\", lw=0, label=label\n",
        "        )\n",
        "    ypos = -0.5 * (zelevs[2] + zelevs[3])\n",
        "    ax.text(\n",
        "        40,\n",
        "        ypos,\n",
        "        \"Confining unit\",\n",
        "        ha=\"left\",\n",
        "        va=\"center\",\n",
        "        size=8,\n",
        "        color=\"white\",\n",
        "    )\n",
        "\n",
        "    label = \"\"\n",
        "    for k in (7, 8, 9):\n",
        "        label = set_label(label, text=\"Thick aquitard\")\n",
        "        ax.fill_between(\n",
        "            xrange, edges[k], y2=edges[k + 1], color=\"tan\", lw=0, label=label\n",
        "        )\n",
        "    ypos = -0.5 * (zelevs[8] + zelevs[9])\n",
        "    ax.text(\n",
        "        40,\n",
        "        ypos,\n",
        "        \"Thick aquitard\",\n",
        "        ha=\"left\",\n",
        "        va=\"center\",\n",
        "        size=8,\n",
        "        color=\"white\",\n",
        "    )\n",
        "\n",
        "    zo = 105\n",
        "    for idx, iyear in enumerate(iyears[:-1]):\n",
        "        xlabel, x, y = build_head_data(df_heads_year, year=iyear)\n",
        "        xlabel1, x1, y1 = build_head_data(df_heads_year, year=iyears[idx + 1])\n",
        "        ax.fill_betweenx(\n",
        "            y, x, x2=x1, color=colors[idx], zorder=zo, step=\"mid\", lw=0\n",
        "        )\n",
        "        ax.plot(x, y, lw=0.5, color=\"black\", zorder=201)\n",
        "        ax.text(\n",
        "            xlabel,\n",
        "            24,\n",
        "            \"{}\".format(iyear),\n",
        "            ha=\"center\",\n",
        "            va=\"bottom\",\n",
        "            rotation=90,\n",
        "            size=7,\n",
        "        )\n",
        "        if iyear == 1996:\n",
        "            ax.plot(x1, y1, lw=0.5, color=\"black\", zorder=zo)\n",
        "            ax.text(\n",
        "                xlabel1,\n",
        "                24,\n",
        "                \"{}\".format(iyears[idx + 1]),\n",
        "                ha=\"center\",\n",
        "                va=\"bottom\",\n",
        "                rotation=90,\n",
        "                size=7,\n",
        "            )\n",
        "        zo += 1\n",
        "\n",
        "    # add layer labels\n",
        "    for k in llabels:\n",
        "        print_label(ax, edges, k)\n",
        "\n",
        "    constant_heads(ax, annotate=True, xrange=xrange)\n",
        "\n",
        "    ax.set_xlabel(\"Depth to water, in meters below land surface\")\n",
        "    ax.set_ylabel(\"Depth below land surface, in meters\")\n",
        "\n",
        "    fs.remove_edge_ticks(ax)\n",
        "\n",
        "    fig.tight_layout(pad=0.5)\n",
        "\n",
        "    # save figure\n",
        "    if config.plotSave:\n",
        "        fpth = os.path.join(\n",
        "            \"..\", \"figures\", \"{}-04{}\".format(sim_name, config.figure_ext)\n",
        "        )\n",
        "        if not silent:\n",
        "            print(\"saving...'{}'\".format(fpth))\n",
        "        fig.savefig(fpth)"
      ],
      "execution_count": 40,
      "outputs": []
    },
    {
      "cell_type": "markdown",
      "metadata": {
        "lines_to_next_cell": 2,
        "id": "7sTntHP_fu8E"
      },
      "source": [
        "Function to plot the model results."
      ]
    },
    {
      "cell_type": "code",
      "metadata": {
        "lines_to_next_cell": 2,
        "id": "w49mjFxCfu8E"
      },
      "source": [
        "def plot_results(silent=False):\n",
        "    if config.plotModel:\n",
        "        plot_grid(silent=silent)\n",
        "        plot_boundary_heads(silent=silent)\n",
        "        plot_head_es_comparison(silent=silent)\n",
        "        plot_calibration(silent=silent)\n",
        "        plot_vertical_head()"
      ],
      "execution_count": 41,
      "outputs": []
    },
    {
      "cell_type": "markdown",
      "metadata": {
        "lines_to_next_cell": 2,
        "id": "eTnajXCafu8E"
      },
      "source": [
        "Function that wraps all of the steps for the model\n",
        "\n",
        "1. build_model,\n",
        "2. write_model,\n",
        "3. run_model, and\n",
        "4. plot_results.\n"
      ]
    },
    {
      "cell_type": "code",
      "metadata": {
        "id": "APTmrVO4fu8E"
      },
      "source": [
        "def simulation(idx, silent=True):\n",
        "    key = list(parameters.keys())[idx]\n",
        "    params = parameters[key].copy()\n",
        "\n",
        "    sim = build_model(key, **params)\n",
        "\n",
        "    write_model(sim, silent=silent)\n",
        "\n",
        "    success = run_model(sim, silent=silent)"
      ],
      "execution_count": 42,
      "outputs": []
    },
    {
      "cell_type": "code",
      "metadata": {
        "id": "O_8qYyp3fu8E"
      },
      "source": [
        ""
      ],
      "execution_count": 42,
      "outputs": []
    },
    {
      "cell_type": "markdown",
      "metadata": {
        "id": "xrLiZd6hfu8E"
      },
      "source": [
        "### One-dimensional compaction\n",
        "\n",
        "#### Head based solution"
      ]
    },
    {
      "cell_type": "code",
      "metadata": {
        "id": "zgDrxzvUfu8E",
        "colab": {
          "base_uri": "https://localhost:8080/"
        },
        "outputId": "a1b80d53-fbff-4e3d-826b-ee0662741442"
      },
      "source": [
        "simulation(0)"
      ],
      "execution_count": 50,
      "outputs": [
        {
          "output_type": "stream",
          "name": "stdout",
          "text": [
            "<flopy.mf6.data.mfstructure.MFDataItemStructure object at 0x7fd36f331e90>\n",
            "WARNING: Unable to resolve dimension of ('ts', 'attributes', 'sfacrecord_single', 'sfacval') based on shape \"time_series_name\".\n",
            "WARNING: Unable to resolve dimension of ('ts', 'attributes', 'sfacrecord_single', 'sfacval') based on shape \"time_series_name\".\n",
            "WARNING: Unable to resolve dimension of ('ts', 'attributes', 'sfacrecord_single', 'sfacval') based on shape \"time_series_name\".\n",
            "run_model  11,689.09 ms\n"
          ]
        }
      ]
    },
    {
      "cell_type": "markdown",
      "metadata": {
        "id": "L4tTrJrJfu8E"
      },
      "source": [
        "#### Effective stress solution"
      ]
    },
    {
      "cell_type": "code",
      "metadata": {
        "id": "bcYyXyyefu8E",
        "colab": {
          "base_uri": "https://localhost:8080/"
        },
        "outputId": "284b1479-0555-4867-fb8c-f401e6bb79fa"
      },
      "source": [
        "simulation(1)"
      ],
      "execution_count": 51,
      "outputs": [
        {
          "output_type": "stream",
          "name": "stdout",
          "text": [
            "<flopy.mf6.data.mfstructure.MFDataItemStructure object at 0x7fd36f331e90>\n",
            "WARNING: Unable to resolve dimension of ('ts', 'attributes', 'sfacrecord_single', 'sfacval') based on shape \"time_series_name\".\n",
            "WARNING: Unable to resolve dimension of ('ts', 'attributes', 'sfacrecord_single', 'sfacval') based on shape \"time_series_name\".\n",
            "WARNING: Unable to resolve dimension of ('ts', 'attributes', 'sfacrecord_single', 'sfacval') based on shape \"time_series_name\".\n",
            "run_model  12,284.35 ms\n"
          ]
        }
      ]
    },
    {
      "cell_type": "markdown",
      "metadata": {
        "id": "zDtI2FKgfu8E"
      },
      "source": [
        "#### Plot results"
      ]
    },
    {
      "cell_type": "code",
      "metadata": {
        "id": "YhjmRkrvfu8F"
      },
      "source": [
        "plot_results()"
      ],
      "execution_count": null,
      "outputs": []
    },
    {
      "cell_type": "markdown",
      "metadata": {
        "id": "yJ-J0T-Yfu8F"
      },
      "source": [
        "#### Export tables"
      ]
    },
    {
      "cell_type": "code",
      "metadata": {
        "id": "hhMoczPCfu8F"
      },
      "source": [
        "export_tables()"
      ],
      "execution_count": 53,
      "outputs": []
    }
  ]
}